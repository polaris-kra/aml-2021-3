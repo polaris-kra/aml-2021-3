{
 "cells": [
  {
   "cell_type": "markdown",
   "metadata": {},
   "source": [
    "# Продвинутое машинное обучение: ДЗ 3\n",
    "\n",
    "![](logo.png)\n",
    "\n",
    "Задание: [link](https://logic.pdmi.ras.ru/~sergey/teaching/mademl2021.html)<br>\n",
    "\n",
    "Выполнил: **Полянских Сергей**, апрель 2021\n",
    "\n",
    "1. [Простой частотный метод](#1.-Простой-частотный-метод)\n",
    "2. [Частотный метод: биграммы](#2.-Частотный-метод:-биграммы)\n",
    "3. [MCMC сэмплирование](#3.-MCMC-сэмплирование)\n",
    "4. [Расшифруйте сообщение](#4.-Расшифруйте-сообщение)\n",
    "5. [MCMC: n-граммы и метрики](#5.-MCMC:-n-граммы-и-метрики)\n",
    "6. [Что? Где? Опять?](#6.-Что?-Где?-Опять?)"
   ]
  },
  {
   "cell_type": "code",
   "execution_count": 1,
   "metadata": {},
   "outputs": [],
   "source": [
    "import re\n",
    "import random\n",
    "import pickle\n",
    "import numpy as np\n",
    "import pandas as pd\n",
    "from collections import defaultdict, Counter\n",
    "import matplotlib.pyplot as plt\n",
    "from tqdm import tqdm\n",
    "from scipy.stats import beta\n",
    "from scipy.special import erf\n",
    "from scipy.sparse import lil_matrix as sparse\n",
    "\n",
    "from sklearn.metrics import accuracy_score\n",
    "\n",
    "from chkg_utils import load_players, load_tournaments, load_results\n",
    "from chkg_utils import prepare_data, mean_correlation_score, top_score\n",
    "from chkg_utils import get_player_questioncount"
   ]
  },
  {
   "cell_type": "markdown",
   "metadata": {},
   "source": [
    "## 1. Простой частотный метод"
   ]
  },
  {
   "cell_type": "code",
   "execution_count": 2,
   "metadata": {},
   "outputs": [],
   "source": [
    "def random_permutation(text):\n",
    "    vocab = list(set(text))\n",
    "    perm = np.random.permutation(vocab)\n",
    "    maps = {v:p for (v,p) in zip(vocab, perm)}\n",
    "    result = ''.join(map(maps.get, text))\n",
    "    return result"
   ]
  },
  {
   "cell_type": "code",
   "execution_count": 3,
   "metadata": {},
   "outputs": [],
   "source": [
    "class HolmesModel:\n",
    "    def __init__(self, n_gram=1):\n",
    "        self.n_gram = n_gram\n",
    "        self.pattern = re.compile(r\"[^а-яА-Я]+\")\n",
    "        self.freqs = None\n",
    "\n",
    "    def fit(self, corpus):\n",
    "        freqs = Counter()\n",
    "\n",
    "        for path in corpus:\n",
    "            with open(path) as f:\n",
    "                text = f.read()\n",
    "\n",
    "            text = re.sub(self.pattern, ' ', text).lower()\n",
    "            for i in range(len(text) - self.n_gram + 1):\n",
    "                freqs.update([text[i : i+self.n_gram]])\n",
    "\n",
    "        total = sum(freqs.values())\n",
    "        for c in freqs:\n",
    "            freqs[c] /= total\n",
    "\n",
    "        self.freqs = freqs\n",
    "        return self\n",
    "\n",
    "    def predict(self, text):\n",
    "        freqs = Counter()\n",
    "        text = text.lower()\n",
    "        for i in range(len(text) - self.n_gram + 1):\n",
    "            freqs.update([text[i : i+self.n_gram]])\n",
    "\n",
    "        total = sum(freqs.values())\n",
    "        for c in freqs:\n",
    "            freqs[c] /= total\n",
    "\n",
    "        result = []\n",
    "        for i in range(len(text) - self.n_gram + 1):\n",
    "            c = text[i : i+self.n_gram]\n",
    "            f = freqs[c]\n",
    "            c_close = None\n",
    "            f_close = 1\n",
    "            for r, fr in self.freqs.items():\n",
    "                if abs(fr - f) < f_close:\n",
    "                    c_close = r\n",
    "                    f_close = abs(fr - f)\n",
    "            result.append(c_close[0])\n",
    "            \n",
    "        result.append(c_close[1:])\n",
    "            \n",
    "        return ''.join(result)"
   ]
  },
  {
   "cell_type": "code",
   "execution_count": 4,
   "metadata": {},
   "outputs": [
    {
     "data": {
      "text/plain": [
       "<__main__.HolmesModel at 0x7ff2b4784b50>"
      ]
     },
     "execution_count": 4,
     "metadata": {},
     "output_type": "execute_result"
    }
   ],
   "source": [
    "holmes = HolmesModel(n_gram=1)\n",
    "holmes.fit(['data/AnnaKarenina.txt','data/WarAndPeace.txt'])"
   ]
  },
  {
   "cell_type": "code",
   "execution_count": 5,
   "metadata": {
    "scrolled": true
   },
   "outputs": [
    {
     "name": "stdout",
     "output_type": "stream",
     "text": [
      "\n",
      "------------ Длина входного текста: 100 ------------\n",
      "Вход:\n",
      " может поравняться с этим а в европе кто представит хоть что нибудь подобное ф м достоевски\n",
      "Результат:\n",
      " рожао соррируориу и жоср р и аироса уоо срасиорисо жоор жоо рсужср сосоуроа ж р соиооаииус\n",
      "\n",
      "------------ Длина входного текста: 1000 ------------\n",
      "Вход:\n",
      " может поравняться с этим а в европе кто представит хоть что нибудь подобное ф м достоевский находил\n",
      "Результат:\n",
      " кожет зорасежтжсж с ютнк а с есрозе уто зреястаснт жотж что еныкяж зояоыеое ф к яостоессунь еажоянв\n",
      "\n",
      "------------ Длина входного текста: 10000 ------------\n",
      "Вход:\n",
      " может поравняться с этим а в европе кто представит хоть что нибудь подобное ф м достоевский находил\n",
      "Результат:\n",
      " дожет ьолнлабтжиб и этад н л еллоье дто ьлеяитнлат жотж что аачяяж ьояочаое щ д яоитоелидаь анжояар\n",
      "\n",
      "------------ Длина входного текста: 100000 ------------\n",
      "Вход:\n",
      " может поравняться с этим а в европе кто представит хоть что нибудь подобное ф м достоевский находил\n",
      "Результат:\n",
      " дожет поравньтьть т цтнд а в европе кто премттавнт шоть что ннбумь помобное ф д моттоевткнж нашомнв\n",
      "\n",
      "------------ Длина входного текста: 200000 ------------\n",
      "Вход:\n",
      " может поравняться с этим а в европе кто представит хоть что нибудь подобное ф м достоевский находил\n",
      "Результат:\n",
      " может яоревняться с этим е в еврояе кто яремстевит хоть зто нибумь яомобное ф м мостоевскиж нехомил\n",
      "\n",
      "------------ Длина входного текста: 300000 ------------\n",
      "Вход:\n",
      " может поравняться с этим а в европе кто представит хоть что нибудь подобное ф м достоевский находил\n",
      "Результат:\n",
      " может поревньтьсь с этим е в европе кто премстевит хоть зто нибумь помобное ф м мостоевскиж нехомил\n",
      "\n",
      "------------ Длина входного текста: 400000 ------------\n",
      "Вход:\n",
      " может поравняться с этим а в европе кто представит хоть что нибудь подобное ф м достоевский находил\n",
      "Результат:\n",
      " может поревняться с этим е в европе кто премстевит хоть зто нибумь помобное ф м мостоевскиж нехомил\n",
      "\n",
      "------------ Длина входного текста: 500000 ------------\n",
      "Вход:\n",
      " может поравняться с этим а в европе кто представит хоть что нибудь подобное ф м достоевский находил\n",
      "Результат:\n",
      " может поревняться с этим е в европе кто премстевит хоть зто нибумь помобное ф м мостоевскиж нехомил\n"
     ]
    }
   ],
   "source": [
    "with open('data/AnnaKarenina.txt') as f:\n",
    "    text = f.read()\n",
    "\n",
    "lens = [100, 1000, 10000, 100000, 200000, 300000, 400000, 500000]\n",
    "scores = []\n",
    "for len_text in lens:\n",
    "    sample = re.sub(holmes.pattern, ' ', text[1000 : 1000+len_text]).lower()\n",
    "\n",
    "    print(f'\\n------------ Длина входного текста: {len_text} ------------')\n",
    "    print('Вход:')\n",
    "    print(sample[:100])\n",
    "\n",
    "    perm = random_permutation(sample)\n",
    "    predict = holmes.predict(perm)\n",
    "    score = accuracy_score(list(sample), list(predict))\n",
    "    scores.append(score)\n",
    "\n",
    "    print('Результат:')\n",
    "    print(predict[:100])"
   ]
  },
  {
   "cell_type": "code",
   "execution_count": 6,
   "metadata": {
    "scrolled": true
   },
   "outputs": [
    {
     "data": {
      "text/plain": [
       "[<matplotlib.lines.Line2D at 0x7ff2867f7b20>]"
      ]
     },
     "execution_count": 6,
     "metadata": {},
     "output_type": "execute_result"
    },
    {
     "data": {
      "image/png": "[encoded data removed]",
      "text/plain": [
       "<Figure size 432x288 with 1 Axes>"
      ]
     },
     "metadata": {
      "needs_background": "light"
     },
     "output_type": "display_data"
    }
   ],
   "source": [
    "plt.xlabel('Длина входного текста')\n",
    "plt.ylabel('Accuracy')\n",
    "plt.plot(lens, scores)"
   ]
  },
  {
   "cell_type": "markdown",
   "metadata": {},
   "source": [
    "**Выводы:**\n",
    "    \n",
    "- простой частотный метод на 1-граммах ожидаемо слабый\n",
    "- даже если подавать на проверку куски исходного корпуса (в надежде на переобучение), то их длина должна быть очень большой, чтобы качество стало приемлемым "
   ]
  },
  {
   "cell_type": "markdown",
   "metadata": {},
   "source": [
    "## 2. Частотный метод: биграммы"
   ]
  },
  {
   "cell_type": "code",
   "execution_count": 7,
   "metadata": {},
   "outputs": [
    {
     "data": {
      "text/plain": [
       "<__main__.HolmesModel at 0x7ff28681b670>"
      ]
     },
     "execution_count": 7,
     "metadata": {},
     "output_type": "execute_result"
    }
   ],
   "source": [
    "holmes = HolmesModel(n_gram=2)\n",
    "holmes.fit(['data/AnnaKarenina.txt', 'data/WarAndPeace.txt'])"
   ]
  },
  {
   "cell_type": "code",
   "execution_count": 8,
   "metadata": {
    "scrolled": true
   },
   "outputs": [
    {
     "name": "stdout",
     "output_type": "stream",
     "text": [
      "\n",
      "------------ Длина входного текста: 100 ------------\n",
      "Вход:\n",
      " может поравняться с этим а в европе кто представит хоть что нибудь подобное ф м достоевски\n",
      "Результат:\n",
      "ояяяяооояяояяяояяяяяяяяяояяяяяояяяяояяооояяяяояояяояяяоояяоояяяяяяооояояяяоояяоояояоооояяя \n",
      "\n",
      "------------ Длина входного текста: 1000 ------------\n",
      "Вход:\n",
      " может поравняться с этим а в европе кто представит хоть что нибудь подобное ф м достоевский находил\n",
      "Результат:\n",
      " чдрпчярп уппурууу дрдрпяд акппп пу гпатяргчуечупдчччрркпуатттпучукярдррутд уу ярр еадпчрпч т пчдпдр\n",
      "\n",
      "------------ Длина входного текста: 10000 ------------\n",
      "Вход:\n",
      " может поравняться с этим а в европе кто представит хоть что нибудь подобное ф м достоевский находил\n",
      "Результат:\n",
      "т оск яурннзоича г  че мус  г неьзм  е  яи нрачнк   двчвси  я яйоавяу с а с ортуас а снтоам яншд де \n",
      "\n",
      "------------ Длина входного текста: 100000 ------------\n",
      "Вход:\n",
      " может поравняться с этим а в европе кто представит хоть что нибудь подобное ф м достоевский находил\n",
      "Результат:\n",
      "зсс оаткзвсилк тюь смо нро  ои тйтоеннтотоо н кса атеп нрлто гвв лнткди рьеевшзр ио те слктг суеде й\n",
      "\n",
      "------------ Длина входного текста: 200000 ------------\n",
      "Вход:\n",
      " может поравняться с этим а в европе кто представит хоть что нибудь подобное ф м достоевский находил\n",
      "Результат:\n",
      "есиалотктуназвпеая окм  ума всмлутоанятотонньяонтеок епьодто отжкуьткаедо саолеулелятсмюроо  яб ает \n",
      "\n",
      "------------ Длина входного текста: 300000 ------------\n",
      "Вход:\n",
      " может поравняться с этим а в европе кто представит хоть что нибудь подобное ф м достоевский находил\n",
      "Результат:\n",
      "есибиттозумузщонн  скичкроа ззтьуузанртототчиятмаито оонодто йоутднто бешнсанзернбоятстднмкк яг  етр\n",
      "\n",
      "------------ Длина входного текста: 400000 ------------\n",
      "Вход:\n",
      " может поравняться с этим а в европе кто представит хоть что нибудь подобное ф м достоевский находил\n",
      "Результат:\n",
      "лсдеиоткзу уожосс  с к ивча ннааукзаантототдьяс веооч оноато рилгднтк илыаиаизлвйиоятиалнско ясч етв\n",
      "\n",
      "------------ Длина входного текста: 500000 ------------\n",
      "Вход:\n",
      " может поравняться с этим а в европе кто представит хоть что нибудь подобное ф м достоевский находил\n",
      "Результат:\n",
      "рсседдт зомкзипын  скэи еоа тзчтркбааутотпзобнлм едгдопнпото рзутант ве щнсарфре еонтсчюзчуо ябдвнте\n"
     ]
    }
   ],
   "source": [
    "with open('data/AnnaKarenina.txt') as f:\n",
    "    text = f.read()\n",
    "\n",
    "lens = [100, 1000, 10000, 100000, 200000, 300000, 400000, 500000]\n",
    "scores = []\n",
    "for len_text in lens:\n",
    "    sample = re.sub(holmes.pattern, ' ', text[1000 : 1000+len_text]).lower()\n",
    "\n",
    "    print(f'\\n------------ Длина входного текста: {len_text} ------------')\n",
    "    print('Вход:')\n",
    "    print(sample[:100])\n",
    "\n",
    "    perm = random_permutation(sample)\n",
    "    predict = holmes.predict(perm)\n",
    "    score = accuracy_score(list(sample), list(predict))\n",
    "    scores.append(score)\n",
    "\n",
    "    print('Результат:')\n",
    "    print(predict[:100])"
   ]
  },
  {
   "cell_type": "code",
   "execution_count": 9,
   "metadata": {},
   "outputs": [
    {
     "data": {
      "text/plain": [
       "[<matplotlib.lines.Line2D at 0x7ff285fb3e80>]"
      ]
     },
     "execution_count": 9,
     "metadata": {},
     "output_type": "execute_result"
    },
    {
     "data": {
      "image/png": "[encoded data removed]",
      "text/plain": [
       "<Figure size 432x288 with 1 Axes>"
      ]
     },
     "metadata": {
      "needs_background": "light"
     },
     "output_type": "display_data"
    }
   ],
   "source": [
    "plt.xlabel('Длина входного текста')\n",
    "plt.ylabel('Accuracy')\n",
    "plt.plot(lens, scores)"
   ]
  },
  {
   "cell_type": "markdown",
   "metadata": {},
   "source": [
    "**Выводы:**\n",
    "\n",
    "- частотный метод на 2-граммах также ожидаемо слабый (слабее 1-грамм) по понятным причинам - биграм очень много\n",
    "- одним словом (одним из предсказанных выше) - полный уожосс\n",
    "- инференс биграммного метода очевидно можно было бы улучшать, но в радикально картина вряд ли бы улучшилась"
   ]
  },
  {
   "cell_type": "markdown",
   "metadata": {},
   "source": [
    "## 3. MCMC сэмплирование\n",
    "\n",
    "Рассмотрим чтение текста слева направо как марковскую цепь последовательных переходом от биграммы к биграмме.<br>\n",
    "Нам требуется найти наилучшую в плане likelihood перестановку символов, приводящую к осмысленному результату. В качестве вероятностного пространства возьмем дискретное пространство всех перестановок символов, в качестве априорного распределения - равномерное, так как априорных знаний о шифре у нас по умолчанию нет.\n",
    "\n",
    "**fit модели**: Составим матрицу переходов от биграмме к биграмме: $L(x, y) = \\log prob(x \\rightarrow y)$.\n",
    "\n",
    "**predict модели:** собственно, MCMC блуждание по перестановкам символов. Нам, впрочем, MCMC здесь нужно только чтобы по сути найти argmax распределения, а не его само как таковое. Перестановки естесственно считать \"близкими\", если они мало отличаются как отображения - на транспозицию например."
   ]
  },
  {
   "cell_type": "code",
   "execution_count": 10,
   "metadata": {},
   "outputs": [],
   "source": [
    "class MCMCModel:\n",
    "    def __init__(self, n_gram=1):\n",
    "        self.n_gram = n_gram\n",
    "        self.pattern = re.compile(r\"[^а-яА-Я]+\")\n",
    "        self.token2idx = None\n",
    "        self.idx2token = None\n",
    "        self.vocab = None\n",
    "        self.P = None\n",
    "\n",
    "    def fit(self, corpus):\n",
    "        stats = defaultdict(Counter)\n",
    "        vocab = set()\n",
    "\n",
    "        for path in corpus:\n",
    "            with open(path) as f:\n",
    "                text = f.read()\n",
    "                \n",
    "            text = re.sub(self.pattern, ' ', text).lower()\n",
    "            vocab |= set(text)\n",
    "            for i in range(len(text) - self.n_gram):\n",
    "                curr_gram = text[i : i+self.n_gram]\n",
    "                next_gram = text[i+1 : i+self.n_gram+1]\n",
    "                stats[curr_gram].update([next_gram])\n",
    "            if next_gram not in stats:\n",
    "                stats[next_gram] = Counter()\n",
    "\n",
    "        tokens = list(stats.keys())\n",
    "        n_tokens = len(stats)\n",
    "        idx2token = {i:t for i, t in enumerate(tokens)}\n",
    "        token2idx = {t:i for i, t in enumerate(tokens)}\n",
    "\n",
    "        P = sparse((n_tokens, n_tokens))\n",
    "        for i in range(n_tokens):\n",
    "            t = idx2token[i]\n",
    "            s = stats[t]\n",
    "            for st, sc in s.items():\n",
    "                if st in token2idx:\n",
    "                    j = token2idx[st]\n",
    "                    P[i, j] = sc\n",
    "\n",
    "        self.vocab = vocab\n",
    "        self.token2idx = token2idx\n",
    "        self.idx2token = idx2token\n",
    "        self.P = sparse(P / (P.sum(axis=1) + 1e-12))\n",
    "\n",
    "    def predict(self, text, max_iters=10000, f0=None, n_chains=10, seed=None):\n",
    "        random.seed(seed)\n",
    "        np.random.seed(seed)\n",
    "\n",
    "        vocab = list(set(text))\n",
    "        f = f0 or self.sample_mapping(vocab)\n",
    "        trans = ''.join([f[c] for c in text])\n",
    "        ll_init = self.log_likelihood(trans)\n",
    "        ll_best = ll_init\n",
    "        f_best = f\n",
    "        accepts = 0\n",
    "\n",
    "        for _ in tqdm(range(n_chains)):\n",
    "            ll = ll_init\n",
    "            for i in range(max_iters):\n",
    "                f_new = self.transpose_mapping(f)\n",
    "                trans_new = ''.join([f_new[c] for c in text])\n",
    "                ll_new = self.log_likelihood(trans_new)\n",
    "\n",
    "                if (ll_new > ll_best):\n",
    "                    ll_best = ll_new\n",
    "                    f_best = f_new\n",
    "\n",
    "                if (ll_new > ll) or (np.random.rand() < np.exp(ll_new - ll)):\n",
    "                    ll = ll_new\n",
    "                    f = f_new\n",
    "                    accepts += 1\n",
    "        \n",
    "        trans = ''.join([f_best[c] for c in text])\n",
    "\n",
    "        return trans, ll_best, f_best, accepts/(max_iters*n_chains)\n",
    "\n",
    "    def transpose_mapping(self, f):\n",
    "        c1 = random.sample(f.keys(), 1)[0]\n",
    "        f1 = f[c1]\n",
    "        f2 = random.sample(self.vocab, 1)[0]\n",
    "        g = f.copy()\n",
    "\n",
    "        if f2 in f.values():\n",
    "            c2 = list(f.keys())[list(f.values()).index(f2)]\n",
    "            g[c1], g[c2] = f2, f1\n",
    "        else:\n",
    "            g[c1] = f2\n",
    "\n",
    "        return g\n",
    "    \n",
    "    def sample_mapping(self, vocab):\n",
    "        samples = random.sample(self.vocab, len(vocab))\n",
    "        f = {c:m for c, m in zip(vocab, samples)}\n",
    "        return f\n",
    "    \n",
    "    def log_likelihood(self, text):\n",
    "        ll = 0.0\n",
    "\n",
    "        for i in range(len(text) - self.n_gram):\n",
    "            curr_gram = text[i : i+self.n_gram]\n",
    "            next_gram = text[i+1 : i+self.n_gram+1]\n",
    "            \n",
    "            curr_id = self.token2idx.get(curr_gram, -1)\n",
    "            next_id = self.token2idx.get(next_gram, -1)\n",
    "            lp = self.P[curr_id, next_id] if (curr_id >= 0) and (next_id >= 0) else 0\n",
    "            ll += np.log(lp or 1e-12)\n",
    "\n",
    "        return ll"
   ]
  },
  {
   "cell_type": "code",
   "execution_count": 11,
   "metadata": {
    "scrolled": true
   },
   "outputs": [],
   "source": [
    "mcmc = MCMCModel(n_gram=2)\n",
    "mcmc.fit(['data/AnnaKarenina.txt', 'data/WarAndPeace.txt'])"
   ]
  },
  {
   "cell_type": "markdown",
   "metadata": {},
   "source": [
    "## 4. Расшифруйте сообщение\n",
    "\n",
    "Поможем MCMC и стартанем из меппинга, даваемого частотным методом."
   ]
  },
  {
   "cell_type": "code",
   "execution_count": 12,
   "metadata": {},
   "outputs": [],
   "source": [
    "text = 'დჳჵჂႨშႼႨშჂხჂჲდႨსႹႭჾႣჵისႼჰႨჂჵჂႨႲႹႧჲჂႨსႹႭჾႣჵისႼჰႨჲდႩჳჲႨჇႨႠჲႹქႹႨჳႹႹჱჶდსჂႽႨႩႹჲႹႭႼჰႨჵდქႩႹႨႲႭႹႧჂჲႣჲიႨჳႩႹႭდდႨშჳდქႹႨშႼႨშჳდႨჳხდჵႣჵჂႨႲႭႣშჂჵისႹႨჂႨႲႹჵჇႧჂჲდႨჾႣႩჳჂჾႣჵისႼჰႨჱႣჵჵႨეႣႨႲႹჳჵდხსდდႨႧდჲშდႭჲႹდႨეႣხႣსჂდႨႩჇႭჳႣႨႾႹჲႽႨႩႹსდႧსႹႨႽႨსჂႧდქႹႨსდႨႹჱდჶႣნ'"
   ]
  },
  {
   "cell_type": "code",
   "execution_count": 13,
   "metadata": {
    "scrolled": true
   },
   "outputs": [],
   "source": [
    "train_freqs = HolmesModel().fit(['data/AnnaKarenina.txt', 'data/WarAndPeace.txt']).freqs\n",
    "train_freqs = sorted(train_freqs.items(), key=lambda item: -item[1])\n",
    "\n",
    "text_freqs = Counter(text)\n",
    "text_freqs = sorted(text_freqs.items(), key=lambda item: -item[1])\n",
    "text_freqs = [(c, r/len(text)) for c, r in text_freqs]\n",
    "\n",
    "n_min = min(len(train_freqs), len(text_freqs))\n",
    "f0 = {c2: c1 for (c1, f1), (c2, f2) in zip(train_freqs[:n_min], text_freqs[:n_min])}"
   ]
  },
  {
   "cell_type": "code",
   "execution_count": 14,
   "metadata": {
    "scrolled": false
   },
   "outputs": [
    {
     "name": "stderr",
     "output_type": "stream",
     "text": [
      "100%|██████████| 30/30 [04:23<00:00,  8.77s/it]\n"
     ]
    }
   ],
   "source": [
    "pred, ll, f, r = mcmc.predict(text, max_iters=10000, f0=f0, n_chains=30, seed=9)"
   ]
  },
  {
   "cell_type": "code",
   "execution_count": 15,
   "metadata": {},
   "outputs": [
    {
     "name": "stdout",
     "output_type": "stream",
     "text": [
      "log_likelihood: -495.98061579350923\n",
      "accept rate: 0.03435\n",
      "result:\n",
      " если вы видите нормальный или почти нормальный текст у этого сообщения который легко прочитать скорее всего вы все сделали правильно и получите максимальный балл за последнее четвертое задание курса хотя конечно я ничего не обещаю\n"
     ]
    }
   ],
   "source": [
    "print('log_likelihood:', ll)\n",
    "print('accept rate:', r)\n",
    "print('result:\\n', pred)"
   ]
  },
  {
   "cell_type": "markdown",
   "metadata": {},
   "source": [
    "Ну вроде бы получилось :)"
   ]
  },
  {
   "cell_type": "markdown",
   "metadata": {},
   "source": [
    "## 5. MCMC: n-граммы и метрики\n",
    "\n",
    "Рассмотрим два гиперпараметра: \n",
    "- длина входной последовательности\n",
    "- длина n-граммы.\n",
    "\n",
    "Тестировать результаты на данном выше предложении не имеет смысла, так как оно раскодировалось идеально.<br>\n",
    "В качестве тестового текста возьмем отрывок из \"Преступления и наказания\".<br>\n",
    "Будем постепенно увеличивать длину текста и смотреть, как изменяется качество (accuracy) дешифровки при разных значениях n_gram = 1,2,3,4."
   ]
  },
  {
   "cell_type": "code",
   "execution_count": 16,
   "metadata": {},
   "outputs": [],
   "source": [
    "text = \\\n",
    "    'озабоченный и серьезный проснулся разумихин на другой день в восьмом часу много новых и непредвиденных '+\\\n",
    "    'недоумений очутилось вдруг у него в это утро он и не воображал прежде что когда нибудь так проснется'+\\\n",
    "    'он помнил до последних подробностей всё вчерашнее и понимал что с ним совершилось что то необыденное что он' +\\\n",
    "    'принял в себя одно доселе совсем неизвестное ему впечатление и непохожее на все прежние в то же время он ясно'+\\\n",
    "    'сознавал чтомечта загоревшаяся в голове его в высшей степени неосуществима до того неосуществима что ему даже'+\\\n",
    "    'стало стыдно ее и он поскорей перешел к другим более насущным заботам и недоумениям оставшимся ему в наследство'+ \\\n",
    "    'после растреклятого вчерашнего дня'"
   ]
  },
  {
   "cell_type": "code",
   "execution_count": 17,
   "metadata": {},
   "outputs": [],
   "source": [
    "vocab = list(set(text))\n",
    "codes = vocab.copy()\n",
    "random.shuffle(codes)\n",
    "\n",
    "encoder = {c:r for c, r in zip(vocab, codes)}\n",
    "decoder = {r:c for c, r in encoder.items()}"
   ]
  },
  {
   "cell_type": "code",
   "execution_count": 18,
   "metadata": {},
   "outputs": [],
   "source": [
    "text_enc = ''.join([encoder[c] for c in text])"
   ]
  },
  {
   "cell_type": "markdown",
   "metadata": {},
   "source": [
    "### n_gram=1"
   ]
  },
  {
   "cell_type": "code",
   "execution_count": 19,
   "metadata": {
    "scrolled": true
   },
   "outputs": [
    {
     "name": "stderr",
     "output_type": "stream",
     "text": [
      "100%|██████████| 30/30 [00:13<00:00,  2.21it/s]\n",
      "100%|██████████| 30/30 [00:24<00:00,  1.22it/s]\n",
      "100%|██████████| 30/30 [00:36<00:00,  1.22s/it]\n",
      "100%|██████████| 30/30 [00:47<00:00,  1.59s/it]\n",
      "100%|██████████| 30/30 [00:59<00:00,  1.97s/it]\n",
      "100%|██████████| 30/30 [01:09<00:00,  2.31s/it]\n",
      "100%|██████████| 30/30 [01:19<00:00,  2.66s/it]\n",
      "100%|██████████| 30/30 [01:33<00:00,  3.11s/it]\n",
      "100%|██████████| 30/30 [01:42<00:00,  3.40s/it]\n"
     ]
    }
   ],
   "source": [
    "mcmc = MCMCModel(n_gram=1)\n",
    "mcmc.fit(['data/AnnaKarenina.txt', 'data/WarAndPeace.txt'])\n",
    "\n",
    "scores1 = []\n",
    "ls = []\n",
    "\n",
    "for l in range(10, 100, 10):\n",
    "    text_trunc = text[:l]\n",
    "    text_trunc_enc = text_enc[:l]\n",
    "    pred, _, _, _ = mcmc.predict(text_trunc_enc, max_iters=10000, f0=None, n_chains=30, seed=9)\n",
    "    score = accuracy_score(list(text_trunc), list(pred))\n",
    "    \n",
    "    scores1.append(score)\n",
    "    ls.append(l)"
   ]
  },
  {
   "cell_type": "markdown",
   "metadata": {},
   "source": [
    "### n_gram=2"
   ]
  },
  {
   "cell_type": "code",
   "execution_count": 20,
   "metadata": {},
   "outputs": [
    {
     "name": "stderr",
     "output_type": "stream",
     "text": [
      "100%|██████████| 30/30 [00:11<00:00,  2.53it/s]\n",
      "100%|██████████| 30/30 [00:23<00:00,  1.30it/s]\n",
      "100%|██████████| 30/30 [00:35<00:00,  1.18s/it]\n",
      "100%|██████████| 30/30 [00:46<00:00,  1.54s/it]\n",
      "100%|██████████| 30/30 [00:56<00:00,  1.87s/it]\n",
      "100%|██████████| 30/30 [01:08<00:00,  2.28s/it]\n",
      "100%|██████████| 30/30 [01:20<00:00,  2.69s/it]\n",
      "100%|██████████| 30/30 [01:31<00:00,  3.04s/it]\n",
      "100%|██████████| 30/30 [01:42<00:00,  3.41s/it]\n"
     ]
    }
   ],
   "source": [
    "mcmc = MCMCModel(n_gram=2)\n",
    "mcmc.fit(['data/AnnaKarenina.txt', 'data/WarAndPeace.txt'])\n",
    "\n",
    "scores2 = []\n",
    "ls = []\n",
    "\n",
    "for l in range(10, 100, 10):\n",
    "    text_trunc = text[:l]\n",
    "    text_trunc_enc = text_enc[:l]\n",
    "    pred, _, _, _ = mcmc.predict(text_trunc_enc, max_iters=10000, f0=None, n_chains=30, seed=9)\n",
    "    score = accuracy_score(list(text_trunc), list(pred))\n",
    "    \n",
    "    scores2.append(score)\n",
    "    ls.append(l)"
   ]
  },
  {
   "cell_type": "markdown",
   "metadata": {},
   "source": [
    "### n_gram=3"
   ]
  },
  {
   "cell_type": "code",
   "execution_count": 21,
   "metadata": {},
   "outputs": [
    {
     "name": "stderr",
     "output_type": "stream",
     "text": [
      "100%|██████████| 30/30 [00:10<00:00,  2.91it/s]\n",
      "100%|██████████| 30/30 [00:22<00:00,  1.35it/s]\n",
      "100%|██████████| 30/30 [00:32<00:00,  1.08s/it]\n",
      "100%|██████████| 30/30 [00:44<00:00,  1.50s/it]\n",
      "100%|██████████| 30/30 [00:55<00:00,  1.83s/it]\n",
      "100%|██████████| 30/30 [01:00<00:00,  2.02s/it]\n",
      "100%|██████████| 30/30 [01:06<00:00,  2.21s/it]\n",
      "100%|██████████| 30/30 [01:16<00:00,  2.56s/it]\n",
      "100%|██████████| 30/30 [01:33<00:00,  3.12s/it]\n"
     ]
    }
   ],
   "source": [
    "mcmc = MCMCModel(n_gram=3)\n",
    "mcmc.fit(['data/AnnaKarenina.txt', 'data/WarAndPeace.txt'])\n",
    "\n",
    "scores3 = []\n",
    "ls = []\n",
    "\n",
    "for l in range(10, 100, 10):\n",
    "    text_trunc = text[:l]\n",
    "    text_trunc_enc = text_enc[:l]\n",
    "    pred, _, _, _ = mcmc.predict(text_trunc_enc, max_iters=10000, f0=None, n_chains=30, seed=9)\n",
    "    score = accuracy_score(list(text_trunc), list(pred))\n",
    "    \n",
    "    scores3.append(score)\n",
    "    ls.append(l)"
   ]
  },
  {
   "cell_type": "markdown",
   "metadata": {},
   "source": [
    "### n_gram=4"
   ]
  },
  {
   "cell_type": "code",
   "execution_count": 22,
   "metadata": {},
   "outputs": [
    {
     "name": "stderr",
     "output_type": "stream",
     "text": [
      "100%|██████████| 30/30 [00:09<00:00,  3.32it/s]\n",
      "100%|██████████| 30/30 [00:16<00:00,  1.77it/s]\n",
      "100%|██████████| 30/30 [00:25<00:00,  1.20it/s]\n",
      "100%|██████████| 30/30 [00:31<00:00,  1.04s/it]\n",
      "100%|██████████| 30/30 [00:42<00:00,  1.43s/it]\n",
      "100%|██████████| 30/30 [00:48<00:00,  1.61s/it]\n",
      "100%|██████████| 30/30 [00:55<00:00,  1.84s/it]\n",
      "100%|██████████| 30/30 [00:57<00:00,  1.91s/it]\n",
      "100%|██████████| 30/30 [01:27<00:00,  2.91s/it]\n"
     ]
    }
   ],
   "source": [
    "mcmc = MCMCModel(n_gram=4)\n",
    "mcmc.fit(['data/AnnaKarenina.txt', 'data/WarAndPeace.txt'])\n",
    "\n",
    "scores4 = []\n",
    "ls = []\n",
    "\n",
    "for l in range(10, 100, 10):\n",
    "    text_trunc = text[:l]\n",
    "    text_trunc_enc = text_enc[:l]\n",
    "    pred, _, _, _ = mcmc.predict(text_trunc_enc, max_iters=10000, f0=None, n_chains=30, seed=9)\n",
    "    score = accuracy_score(list(text_trunc), list(pred))\n",
    "    \n",
    "    scores4.append(score)\n",
    "    ls.append(l)"
   ]
  },
  {
   "cell_type": "code",
   "execution_count": 32,
   "metadata": {
    "scrolled": true
   },
   "outputs": [
    {
     "data": {
      "image/png": "[encoded data removed]",
      "text/plain": [
       "<Figure size 432x288 with 1 Axes>"
      ]
     },
     "metadata": {
      "needs_background": "light"
     },
     "output_type": "display_data"
    }
   ],
   "source": [
    "plt.xlabel('text length')\n",
    "plt.ylabel('decode accuracy')\n",
    "plt.title('n_gram = 1')\n",
    "plt.plot(ls, scores1, label='n_gram = 1')\n",
    "plt.plot(ls, scores2, label='n_gram = 2')\n",
    "plt.plot(ls, scores3, label='n_gram = 3')\n",
    "plt.plot(ls, scores4, label='n_gram = 4')\n",
    "plt.legend()\n",
    "plt.show()"
   ]
  },
  {
   "cell_type": "markdown",
   "metadata": {},
   "source": [
    "**Выводы:**\n",
    "\n",
    "Довольно сложно сказать как n_gram влияет на общее качество. Там, где видна существенная просадка, дело скорее всего в том, что сэмплироваине не сошлось, что случается не редко.\n",
    "В целом по ощущениям кажется, что n_gram={2,3} дают оптимальное качество."
   ]
  },
  {
   "cell_type": "markdown",
   "metadata": {},
   "source": [
    "## 6. Что? Где? Опять?\n",
    "\n",
    "(вместо бонуса)\n",
    "\n",
    "Придумать сходу, где MCMC декодирование последовательностей может еще возникнуть сразу не вышло (разве что пальцем в небо - теория информации, биоинженерия и т.п).\n",
    "\n",
    "Но лично мне крайне интересно теперь реализовать идею, предложенную в решении предыдущего ДЗ https://nbviewer.jupyter.org/github/polaris-kra/aml-2021/blob/main/homework_2.ipynb - постараться получить рейтинги игроков в \"Что? Где? Когда?\" не в виде конечных чисел, а в виде распределений.\n",
    "\n",
    "Как было тогда показано, такая система рейтингов имеет ряд преимуществ, главным из которых является естественное занижение рейтингов у мало игравших игроков - для этого в качестве итогового рейтинга игрока следует взять $t$-й квантиль распределения его рейтинга, где $t$ - небольное число. При этом пропадает необходимость в искусственной фильтрации новичков, чтобы они не искажали рейтинги, и рейтинги будут у всех - и  новичков, и профессионалов."
   ]
  },
  {
   "cell_type": "markdown",
   "metadata": {},
   "source": [
    "**Данные**"
   ]
  },
  {
   "cell_type": "code",
   "execution_count": 34,
   "metadata": {},
   "outputs": [
    {
     "name": "stderr",
     "output_type": "stream",
     "text": [
      "100%|██████████| 5528/5528 [00:08<00:00, 648.71it/s]  \n"
     ]
    }
   ],
   "source": [
    "players = load_players('data/players.pkl')\n",
    "tournaments = load_tournaments('data/tournaments.pkl')\n",
    "team_results = load_results('data/results.pkl', tournaments)"
   ]
  },
  {
   "cell_type": "code",
   "execution_count": 35,
   "metadata": {},
   "outputs": [],
   "source": [
    "train_results = team_results[team_results['year'] == 2019]\n",
    "test_results  = team_results[team_results['year'] == 2020]"
   ]
  },
  {
   "cell_type": "markdown",
   "metadata": {},
   "source": [
    "**Модель**\n",
    "\n",
    "Модель сделаем попроще, чтобы продемонстрировать, что идея работает, но не было бы серьезных проблем с сэмплированием.\n",
    "\n",
    "Имеем\n",
    "\n",
    "$$\n",
    "p(\\theta | D) \\sim p(D | \\theta)p(\\theta),\n",
    "$$\n",
    "\n",
    "где $\\theta = (\\bar{z}, \\bar{u})$ - вектор параметров, составленный из векторов рейтингов игроков $\\bar{z}$ и рейтингов ворпосов $\\bar{u}$, которые мы предполагаем случайными величинами, распределенными на $(-\\infty,\\infty)$. \n",
    "\n",
    "Далее, будем предполагать, что априорное распределение - нормальное с центром в 0. Расчеты показали, что без такой регуляризации распределения рейтингов ничем не ограничены и \"разрастаются\" в обе стороны при продолжительном семплировании. С регуляризацией такой проблемы нет. \n",
    "\n",
    "Тогда окончательно:\n",
    "\n",
    "$$\n",
    "\\ln p(\\theta | D) \\sim \\ln p(D | \\theta) + \\ln p(\\theta) = \\sum\\limits_{d \\in D}\\ln p(d | \\bar{z}, \\bar{u}) - \\lambda \\left(\\| z \\|^2 + \\|u\\|^2\\right),\n",
    "$$\n",
    "\n",
    "где $d$ - точка данных: такая-то команда взяла или не взяла такой-то вопрос. \n",
    "\n",
    "Собственно, сама модель будет состоять в следующем: силой команды считаем сумму рейтингов ее членов, из которой затем вычитается рейтинг вопроса. На результат накладывается нормальный гауссовский шум, имитирующий случайность/удачу и т.п. Если получившееся значение больше нуля, то команда взяла вопрос, если меньше либо равно, то нет:\n",
    "\n",
    "$$\n",
    "\\DeclareMathOperator{\\erf}{erf}\n",
    "p(d = 0 |  \\bar{z}, \\bar{u}) = \\int\\limits_{-\\infty}^0 N(t | \\sum_{p\\in t}z_{pq} - u_q, \\sigma^2)dt =\n",
    "\\frac{1}{2} + \\frac{1}{2}\\erf\\left(-\\frac{\\sum_{p\\in t}z_{pq} - u_q}{\\sigma\\sqrt{2}}\\right) ,\n",
    "$$\n",
    "$$\n",
    "p(d = 1 |  \\bar{z}, \\bar{u}) = \\int\\limits_0^{\\infty} N(t | \\sum_{p\\in t}z_{pq} - u_q, \\sigma^2)dt =\n",
    "\\frac{1}{2} - \\frac{1}{2}\\erf\\left(-\\frac{\\sum_{p\\in t}z_{pq} - u_q}{\\sigma\\sqrt{2}}\\right)  \n",
    ".\n",
    "$$\n",
    "\n",
    "Здесь $\\sigma$ - гиперпараметр, положим для простоты заданным свыше, скажем, равным 1.\n",
    "В этих предположениях модель оказывается полностью определенной и достаточно простой для сэмплирования по Метрополису."
   ]
  },
  {
   "cell_type": "code",
   "execution_count": 36,
   "metadata": {},
   "outputs": [],
   "source": [
    "player_questioncount = get_player_questioncount(train_results)\n",
    "olders = player_questioncount[player_questioncount['question_count'] > 1300]['player_id'].values"
   ]
  },
  {
   "cell_type": "code",
   "execution_count": 37,
   "metadata": {
    "scrolled": true
   },
   "outputs": [
    {
     "data": {
      "text/html": [
       "<div>\n",
       "<style scoped>\n",
       "    .dataframe tbody tr th:only-of-type {\n",
       "        vertical-align: middle;\n",
       "    }\n",
       "\n",
       "    .dataframe tbody tr th {\n",
       "        vertical-align: top;\n",
       "    }\n",
       "\n",
       "    .dataframe thead th {\n",
       "        text-align: right;\n",
       "    }\n",
       "</style>\n",
       "<table border=\"1\" class=\"dataframe\">\n",
       "  <thead>\n",
       "    <tr style=\"text-align: right;\">\n",
       "      <th></th>\n",
       "      <th></th>\n",
       "      <th>gameteam_id</th>\n",
       "      <th>win</th>\n",
       "    </tr>\n",
       "    <tr>\n",
       "      <th>player_id</th>\n",
       "      <th>question_id</th>\n",
       "      <th></th>\n",
       "      <th></th>\n",
       "    </tr>\n",
       "  </thead>\n",
       "  <tbody>\n",
       "    <tr>\n",
       "      <th rowspan=\"5\" valign=\"top\">0</th>\n",
       "      <th>0</th>\n",
       "      <td>455564772</td>\n",
       "      <td>1</td>\n",
       "    </tr>\n",
       "    <tr>\n",
       "      <th>1</th>\n",
       "      <td>455564772</td>\n",
       "      <td>1</td>\n",
       "    </tr>\n",
       "    <tr>\n",
       "      <th>2</th>\n",
       "      <td>455564772</td>\n",
       "      <td>1</td>\n",
       "    </tr>\n",
       "    <tr>\n",
       "      <th>3</th>\n",
       "      <td>455564772</td>\n",
       "      <td>1</td>\n",
       "    </tr>\n",
       "    <tr>\n",
       "      <th>4</th>\n",
       "      <td>455564772</td>\n",
       "      <td>1</td>\n",
       "    </tr>\n",
       "  </tbody>\n",
       "</table>\n",
       "</div>"
      ],
      "text/plain": [
       "                       gameteam_id  win\n",
       "player_id question_id                  \n",
       "0         0              455564772    1\n",
       "          1              455564772    1\n",
       "          2              455564772    1\n",
       "          3              455564772    1\n",
       "          4              455564772    1"
      ]
     },
     "execution_count": 37,
     "metadata": {},
     "output_type": "execute_result"
    }
   ],
   "source": [
    "train_data, player_inv_map, question_inv_map = prepare_data(train_results, filter_players=olders)\n",
    "train_data.set_index(['player_id', 'question_id'], inplace=True)\n",
    "train_data.head()"
   ]
  },
  {
   "cell_type": "code",
   "execution_count": 38,
   "metadata": {
    "scrolled": true
   },
   "outputs": [],
   "source": [
    "def create_param_dataframes(p_values, q_values):\n",
    "    p_ratings = pd.DataFrame({'player_rating': p_values})\n",
    "    p_ratings.index.name = 'player_id'\n",
    "    q_ratings = pd.DataFrame({'question_rating': q_values})\n",
    "    q_ratings.index.name = 'question_id'\n",
    "    \n",
    "    return p_ratings, q_ratings\n",
    "\n",
    "\n",
    "def calc_log_likelihood(data, p_ratings, q_ratings, sigma=1, p_lam=1, q_lam=1):\n",
    "    data = data.join(p_ratings) \\\n",
    "               .join(q_ratings) \\\n",
    "               .groupby(['gameteam_id', 'question_id']) \\\n",
    "               .agg({'win': 'first', 'player_rating': 'sum',  'question_rating': 'first'}) \\\n",
    "               .reset_index()\n",
    "\n",
    "    data['win_rating'] = data['player_rating'] - data['question_rating'] \n",
    "    data['value'] = -data['win_rating'] / (sigma * np.sqrt(2))\n",
    "    data['value'] =  data['value'].apply(erf)\n",
    "    data.loc[data['win'] == 1, 'value'] *= -1\n",
    "    \n",
    "    if np.any(data['value'].values == -1):\n",
    "        return -np.inf\n",
    "\n",
    "    data['value'] = np.log(0.5 + 0.5*data['value'])\n",
    "\n",
    "    log_likelihood = data['value'].values.sum() - \\\n",
    "                     p_lam*np.linalg.norm(p_ratings['player_rating'].values)**2 - \\\n",
    "                     q_lam*np.linalg.norm(q_ratings['question_rating'].values)**2\n",
    "    del data\n",
    "    \n",
    "    return log_likelihood\n",
    "\n",
    "\n",
    "def step_sample(x, q_sigma=0.1):\n",
    "    return x + np.random.normal(0, q_sigma, len(x))\n",
    "\n",
    "\n",
    "def metropolis(data, p_ratings, q_ratings, m_sigma,\n",
    "               n_iter, q_sigma=0.1, p_lam=1.0, q_lam=1.0, random_state=None):\n",
    "    # init randomness\n",
    "    random.seed(random_state)\n",
    "    np.random.seed(random_state)\n",
    "    \n",
    "    # set initial point in parameter space\n",
    "    n_players = len(p_ratings)\n",
    "    n_questions = len(q_ratings)\n",
    "    p_ratings_curr, q_ratings_curr = \\\n",
    "        create_param_dataframes(np.random.rand(n_players),\n",
    "                                np.random.rand(n_questions))\n",
    "    l_curr = calc_log_likelihood(data, p_ratings_curr, q_ratings_curr, sigma=m_sigma, p_lam=p_lam, q_lam=q_lam)\n",
    "    p_samples = [p_ratings_curr['player_rating'].values.copy()]\n",
    "    q_samples = [q_ratings_curr['question_rating'].values.copy()]\n",
    "    accepted = 0\n",
    "    log_infs = 0\n",
    "\n",
    "    # sample it!\n",
    "    for i in tqdm(range(n_iter)):\n",
    "        p_new = step_sample(p_ratings_curr['player_rating'].values, q_sigma=q_sigma)\n",
    "        q_new = step_sample(q_ratings_curr['question_rating'].values, q_sigma=q_sigma)\n",
    "        p_ratings_new, q_ratings_new = create_param_dataframes(p_new, q_new)\n",
    "        \n",
    "        l_new = calc_log_likelihood(data, p_ratings_new, q_ratings_new, sigma=m_sigma, p_lam=p_lam, q_lam=q_lam)\n",
    "        \n",
    "        if np.isinf(l_new):\n",
    "            log_infs += 1\n",
    "        else:\n",
    "            if (l_new > l_curr) or (np.random.rand() < np.exp(l_new - l_curr)):\n",
    "                p_samples.append(p_ratings_new['player_rating'].values.copy())\n",
    "                q_samples.append(q_ratings_new['question_rating'].values.copy())\n",
    "                p_ratings_curr = p_ratings_new\n",
    "                q_ratings_curr = q_ratings_new\n",
    "                l_curr = l_new\n",
    "                accepted += 1\n",
    "\n",
    "        if (i > 0) and (i % 100 == 0):\n",
    "            print('accept rate, %: ', accepted)\n",
    "            print('log inf rate, %: ', log_infs)\n",
    "            accepted = 0\n",
    "            log_infs = 0\n",
    "\n",
    "    return np.array(p_samples), np.array(q_samples)"
   ]
  },
  {
   "cell_type": "code",
   "execution_count": 39,
   "metadata": {},
   "outputs": [],
   "source": [
    "p_ratings, q_ratings = create_param_dataframes(np.zeros(len(player_inv_map)), \n",
    "                                               np.zeros(len(question_inv_map)))"
   ]
  },
  {
   "cell_type": "code",
   "execution_count": 40,
   "metadata": {},
   "outputs": [
    {
     "data": {
      "text/plain": [
       "((2116, 1), (27271, 1))"
      ]
     },
     "execution_count": 40,
     "metadata": {},
     "output_type": "execute_result"
    }
   ],
   "source": [
    "p_ratings.shape, q_ratings.shape"
   ]
  },
  {
   "cell_type": "code",
   "execution_count": 41,
   "metadata": {
    "scrolled": true
   },
   "outputs": [
    {
     "name": "stderr",
     "output_type": "stream",
     "text": [
      "  1%|          | 101/10000 [01:04<1:43:56,  1.59it/s]"
     ]
    },
    {
     "name": "stdout",
     "output_type": "stream",
     "text": [
      "accept rate, %:  47\n",
      "log inf rate, %:  0\n"
     ]
    },
    {
     "name": "stderr",
     "output_type": "stream",
     "text": [
      "  2%|▏         | 201/10000 [02:07<1:43:37,  1.58it/s]"
     ]
    },
    {
     "name": "stdout",
     "output_type": "stream",
     "text": [
      "accept rate, %:  47\n",
      "log inf rate, %:  0\n"
     ]
    },
    {
     "name": "stderr",
     "output_type": "stream",
     "text": [
      "  3%|▎         | 301/10000 [03:10<1:42:48,  1.57it/s]"
     ]
    },
    {
     "name": "stdout",
     "output_type": "stream",
     "text": [
      "accept rate, %:  44\n",
      "log inf rate, %:  0\n"
     ]
    },
    {
     "name": "stderr",
     "output_type": "stream",
     "text": [
      "  4%|▍         | 401/10000 [04:14<1:40:42,  1.59it/s]"
     ]
    },
    {
     "name": "stdout",
     "output_type": "stream",
     "text": [
      "accept rate, %:  48\n",
      "log inf rate, %:  0\n"
     ]
    },
    {
     "name": "stderr",
     "output_type": "stream",
     "text": [
      "  5%|▌         | 501/10000 [05:17<1:38:50,  1.60it/s]"
     ]
    },
    {
     "name": "stdout",
     "output_type": "stream",
     "text": [
      "accept rate, %:  56\n",
      "log inf rate, %:  0\n"
     ]
    },
    {
     "name": "stderr",
     "output_type": "stream",
     "text": [
      "  6%|▌         | 601/10000 [06:20<1:36:43,  1.62it/s]"
     ]
    },
    {
     "name": "stdout",
     "output_type": "stream",
     "text": [
      "accept rate, %:  55\n",
      "log inf rate, %:  0\n"
     ]
    },
    {
     "name": "stderr",
     "output_type": "stream",
     "text": [
      "  7%|▋         | 701/10000 [07:22<1:36:28,  1.61it/s]"
     ]
    },
    {
     "name": "stdout",
     "output_type": "stream",
     "text": [
      "accept rate, %:  49\n",
      "log inf rate, %:  0\n"
     ]
    },
    {
     "name": "stderr",
     "output_type": "stream",
     "text": [
      "  8%|▊         | 801/10000 [08:25<1:35:13,  1.61it/s]"
     ]
    },
    {
     "name": "stdout",
     "output_type": "stream",
     "text": [
      "accept rate, %:  49\n",
      "log inf rate, %:  0\n"
     ]
    },
    {
     "name": "stderr",
     "output_type": "stream",
     "text": [
      "  9%|▉         | 901/10000 [09:27<1:34:33,  1.60it/s]"
     ]
    },
    {
     "name": "stdout",
     "output_type": "stream",
     "text": [
      "accept rate, %:  49\n",
      "log inf rate, %:  0\n"
     ]
    },
    {
     "name": "stderr",
     "output_type": "stream",
     "text": [
      " 10%|█         | 1001/10000 [10:29<1:31:50,  1.63it/s]"
     ]
    },
    {
     "name": "stdout",
     "output_type": "stream",
     "text": [
      "accept rate, %:  48\n",
      "log inf rate, %:  0\n"
     ]
    },
    {
     "name": "stderr",
     "output_type": "stream",
     "text": [
      " 11%|█         | 1101/10000 [11:31<1:30:28,  1.64it/s]"
     ]
    },
    {
     "name": "stdout",
     "output_type": "stream",
     "text": [
      "accept rate, %:  54\n",
      "log inf rate, %:  0\n"
     ]
    },
    {
     "name": "stderr",
     "output_type": "stream",
     "text": [
      " 12%|█▏        | 1201/10000 [12:35<1:34:36,  1.55it/s]"
     ]
    },
    {
     "name": "stdout",
     "output_type": "stream",
     "text": [
      "accept rate, %:  45\n",
      "log inf rate, %:  0\n"
     ]
    },
    {
     "name": "stderr",
     "output_type": "stream",
     "text": [
      " 13%|█▎        | 1301/10000 [13:38<1:32:47,  1.56it/s]"
     ]
    },
    {
     "name": "stdout",
     "output_type": "stream",
     "text": [
      "accept rate, %:  53\n",
      "log inf rate, %:  0\n"
     ]
    },
    {
     "name": "stderr",
     "output_type": "stream",
     "text": [
      " 14%|█▍        | 1401/10000 [14:42<1:30:28,  1.58it/s]"
     ]
    },
    {
     "name": "stdout",
     "output_type": "stream",
     "text": [
      "accept rate, %:  54\n",
      "log inf rate, %:  0\n"
     ]
    },
    {
     "name": "stderr",
     "output_type": "stream",
     "text": [
      " 15%|█▌        | 1501/10000 [15:45<1:29:12,  1.59it/s]"
     ]
    },
    {
     "name": "stdout",
     "output_type": "stream",
     "text": [
      "accept rate, %:  46\n",
      "log inf rate, %:  0\n"
     ]
    },
    {
     "name": "stderr",
     "output_type": "stream",
     "text": [
      " 16%|█▌        | 1601/10000 [16:49<1:28:09,  1.59it/s]"
     ]
    },
    {
     "name": "stdout",
     "output_type": "stream",
     "text": [
      "accept rate, %:  48\n",
      "log inf rate, %:  0\n"
     ]
    },
    {
     "name": "stderr",
     "output_type": "stream",
     "text": [
      " 17%|█▋        | 1701/10000 [17:52<1:28:19,  1.57it/s]"
     ]
    },
    {
     "name": "stdout",
     "output_type": "stream",
     "text": [
      "accept rate, %:  45\n",
      "log inf rate, %:  0\n"
     ]
    },
    {
     "name": "stderr",
     "output_type": "stream",
     "text": [
      " 18%|█▊        | 1801/10000 [18:56<1:27:07,  1.57it/s]"
     ]
    },
    {
     "name": "stdout",
     "output_type": "stream",
     "text": [
      "accept rate, %:  54\n",
      "log inf rate, %:  0\n"
     ]
    },
    {
     "name": "stderr",
     "output_type": "stream",
     "text": [
      " 19%|█▉        | 1901/10000 [20:00<1:25:35,  1.58it/s]"
     ]
    },
    {
     "name": "stdout",
     "output_type": "stream",
     "text": [
      "accept rate, %:  46\n",
      "log inf rate, %:  0\n"
     ]
    },
    {
     "name": "stderr",
     "output_type": "stream",
     "text": [
      " 20%|██        | 2001/10000 [21:03<1:24:07,  1.58it/s]"
     ]
    },
    {
     "name": "stdout",
     "output_type": "stream",
     "text": [
      "accept rate, %:  54\n",
      "log inf rate, %:  0\n"
     ]
    },
    {
     "name": "stderr",
     "output_type": "stream",
     "text": [
      " 21%|██        | 2101/10000 [22:06<1:23:08,  1.58it/s]"
     ]
    },
    {
     "name": "stdout",
     "output_type": "stream",
     "text": [
      "accept rate, %:  50\n",
      "log inf rate, %:  0\n"
     ]
    },
    {
     "name": "stderr",
     "output_type": "stream",
     "text": [
      " 22%|██▏       | 2201/10000 [23:10<1:21:50,  1.59it/s]"
     ]
    },
    {
     "name": "stdout",
     "output_type": "stream",
     "text": [
      "accept rate, %:  48\n",
      "log inf rate, %:  0\n"
     ]
    },
    {
     "name": "stderr",
     "output_type": "stream",
     "text": [
      " 23%|██▎       | 2301/10000 [24:13<1:21:20,  1.58it/s]"
     ]
    },
    {
     "name": "stdout",
     "output_type": "stream",
     "text": [
      "accept rate, %:  60\n",
      "log inf rate, %:  0\n"
     ]
    },
    {
     "name": "stderr",
     "output_type": "stream",
     "text": [
      " 24%|██▍       | 2401/10000 [25:17<1:20:26,  1.57it/s]"
     ]
    },
    {
     "name": "stdout",
     "output_type": "stream",
     "text": [
      "accept rate, %:  47\n",
      "log inf rate, %:  0\n"
     ]
    },
    {
     "name": "stderr",
     "output_type": "stream",
     "text": [
      " 25%|██▌       | 2501/10000 [26:20<1:19:28,  1.57it/s]"
     ]
    },
    {
     "name": "stdout",
     "output_type": "stream",
     "text": [
      "accept rate, %:  52\n",
      "log inf rate, %:  0\n"
     ]
    },
    {
     "name": "stderr",
     "output_type": "stream",
     "text": [
      " 26%|██▌       | 2601/10000 [27:23<1:18:44,  1.57it/s]"
     ]
    },
    {
     "name": "stdout",
     "output_type": "stream",
     "text": [
      "accept rate, %:  47\n",
      "log inf rate, %:  0\n"
     ]
    },
    {
     "name": "stderr",
     "output_type": "stream",
     "text": [
      " 27%|██▋       | 2701/10000 [28:27<1:17:01,  1.58it/s]"
     ]
    },
    {
     "name": "stdout",
     "output_type": "stream",
     "text": [
      "accept rate, %:  39\n",
      "log inf rate, %:  0\n"
     ]
    },
    {
     "name": "stderr",
     "output_type": "stream",
     "text": [
      " 28%|██▊       | 2801/10000 [29:31<1:17:15,  1.55it/s]"
     ]
    },
    {
     "name": "stdout",
     "output_type": "stream",
     "text": [
      "accept rate, %:  47\n",
      "log inf rate, %:  0\n"
     ]
    },
    {
     "name": "stderr",
     "output_type": "stream",
     "text": [
      " 29%|██▉       | 2901/10000 [30:34<1:14:30,  1.59it/s]"
     ]
    },
    {
     "name": "stdout",
     "output_type": "stream",
     "text": [
      "accept rate, %:  52\n",
      "log inf rate, %:  0\n"
     ]
    },
    {
     "name": "stderr",
     "output_type": "stream",
     "text": [
      " 30%|███       | 3001/10000 [31:36<1:13:32,  1.59it/s]"
     ]
    },
    {
     "name": "stdout",
     "output_type": "stream",
     "text": [
      "accept rate, %:  53\n",
      "log inf rate, %:  0\n"
     ]
    },
    {
     "name": "stderr",
     "output_type": "stream",
     "text": [
      " 31%|███       | 3101/10000 [32:40<1:12:21,  1.59it/s]"
     ]
    },
    {
     "name": "stdout",
     "output_type": "stream",
     "text": [
      "accept rate, %:  50\n",
      "log inf rate, %:  0\n"
     ]
    },
    {
     "name": "stderr",
     "output_type": "stream",
     "text": [
      " 32%|███▏      | 3201/10000 [33:42<1:11:43,  1.58it/s]"
     ]
    },
    {
     "name": "stdout",
     "output_type": "stream",
     "text": [
      "accept rate, %:  47\n",
      "log inf rate, %:  0\n"
     ]
    },
    {
     "name": "stderr",
     "output_type": "stream",
     "text": [
      " 33%|███▎      | 3301/10000 [34:46<1:10:07,  1.59it/s]"
     ]
    },
    {
     "name": "stdout",
     "output_type": "stream",
     "text": [
      "accept rate, %:  42\n",
      "log inf rate, %:  0\n"
     ]
    },
    {
     "name": "stderr",
     "output_type": "stream",
     "text": [
      " 34%|███▍      | 3401/10000 [35:48<1:09:19,  1.59it/s]"
     ]
    },
    {
     "name": "stdout",
     "output_type": "stream",
     "text": [
      "accept rate, %:  43\n",
      "log inf rate, %:  0\n"
     ]
    },
    {
     "name": "stderr",
     "output_type": "stream",
     "text": [
      " 35%|███▌      | 3501/10000 [36:51<1:08:26,  1.58it/s]"
     ]
    },
    {
     "name": "stdout",
     "output_type": "stream",
     "text": [
      "accept rate, %:  45\n",
      "log inf rate, %:  0\n"
     ]
    },
    {
     "name": "stderr",
     "output_type": "stream",
     "text": [
      " 36%|███▌      | 3601/10000 [37:54<1:06:38,  1.60it/s]"
     ]
    },
    {
     "name": "stdout",
     "output_type": "stream",
     "text": [
      "accept rate, %:  45\n",
      "log inf rate, %:  0\n"
     ]
    },
    {
     "name": "stderr",
     "output_type": "stream",
     "text": [
      " 37%|███▋      | 3701/10000 [38:57<1:06:25,  1.58it/s]"
     ]
    },
    {
     "name": "stdout",
     "output_type": "stream",
     "text": [
      "accept rate, %:  52\n",
      "log inf rate, %:  0\n"
     ]
    },
    {
     "name": "stderr",
     "output_type": "stream",
     "text": [
      " 38%|███▊      | 3801/10000 [40:00<1:04:27,  1.60it/s]"
     ]
    },
    {
     "name": "stdout",
     "output_type": "stream",
     "text": [
      "accept rate, %:  50\n",
      "log inf rate, %:  0\n"
     ]
    },
    {
     "name": "stderr",
     "output_type": "stream",
     "text": [
      " 39%|███▉      | 3901/10000 [41:03<1:04:24,  1.58it/s]"
     ]
    },
    {
     "name": "stdout",
     "output_type": "stream",
     "text": [
      "accept rate, %:  44\n",
      "log inf rate, %:  0\n"
     ]
    },
    {
     "name": "stderr",
     "output_type": "stream",
     "text": [
      " 40%|████      | 4001/10000 [42:05<1:02:18,  1.60it/s]"
     ]
    },
    {
     "name": "stdout",
     "output_type": "stream",
     "text": [
      "accept rate, %:  49\n",
      "log inf rate, %:  0\n"
     ]
    },
    {
     "name": "stderr",
     "output_type": "stream",
     "text": [
      " 41%|████      | 4101/10000 [43:08<1:01:33,  1.60it/s]"
     ]
    },
    {
     "name": "stdout",
     "output_type": "stream",
     "text": [
      "accept rate, %:  48\n",
      "log inf rate, %:  0\n"
     ]
    },
    {
     "name": "stderr",
     "output_type": "stream",
     "text": [
      " 42%|████▏     | 4201/10000 [44:11<1:01:07,  1.58it/s]"
     ]
    },
    {
     "name": "stdout",
     "output_type": "stream",
     "text": [
      "accept rate, %:  55\n",
      "log inf rate, %:  0\n"
     ]
    },
    {
     "name": "stderr",
     "output_type": "stream",
     "text": [
      " 43%|████▎     | 4301/10000 [45:14<1:00:04,  1.58it/s]"
     ]
    },
    {
     "name": "stdout",
     "output_type": "stream",
     "text": [
      "accept rate, %:  45\n",
      "log inf rate, %:  0\n"
     ]
    },
    {
     "name": "stderr",
     "output_type": "stream",
     "text": [
      " 44%|████▍     | 4401/10000 [46:17<58:31,  1.59it/s]  "
     ]
    },
    {
     "name": "stdout",
     "output_type": "stream",
     "text": [
      "accept rate, %:  55\n",
      "log inf rate, %:  0\n"
     ]
    },
    {
     "name": "stderr",
     "output_type": "stream",
     "text": [
      " 45%|████▌     | 4501/10000 [47:20<57:48,  1.59it/s]"
     ]
    },
    {
     "name": "stdout",
     "output_type": "stream",
     "text": [
      "accept rate, %:  56\n",
      "log inf rate, %:  0\n"
     ]
    },
    {
     "name": "stderr",
     "output_type": "stream",
     "text": [
      " 46%|████▌     | 4601/10000 [48:22<56:17,  1.60it/s]"
     ]
    },
    {
     "name": "stdout",
     "output_type": "stream",
     "text": [
      "accept rate, %:  42\n",
      "log inf rate, %:  0\n"
     ]
    },
    {
     "name": "stderr",
     "output_type": "stream",
     "text": [
      " 47%|████▋     | 4701/10000 [49:26<55:27,  1.59it/s]  "
     ]
    },
    {
     "name": "stdout",
     "output_type": "stream",
     "text": [
      "accept rate, %:  58\n",
      "log inf rate, %:  0\n"
     ]
    },
    {
     "name": "stderr",
     "output_type": "stream",
     "text": [
      " 48%|████▊     | 4801/10000 [50:29<54:56,  1.58it/s]"
     ]
    },
    {
     "name": "stdout",
     "output_type": "stream",
     "text": [
      "accept rate, %:  50\n",
      "log inf rate, %:  0\n"
     ]
    },
    {
     "name": "stderr",
     "output_type": "stream",
     "text": [
      " 49%|████▉     | 4901/10000 [51:32<53:25,  1.59it/s]"
     ]
    },
    {
     "name": "stdout",
     "output_type": "stream",
     "text": [
      "accept rate, %:  53\n",
      "log inf rate, %:  0\n"
     ]
    },
    {
     "name": "stderr",
     "output_type": "stream",
     "text": [
      " 50%|█████     | 5001/10000 [52:34<52:15,  1.59it/s]"
     ]
    },
    {
     "name": "stdout",
     "output_type": "stream",
     "text": [
      "accept rate, %:  43\n",
      "log inf rate, %:  0\n"
     ]
    },
    {
     "name": "stderr",
     "output_type": "stream",
     "text": [
      " 51%|█████     | 5101/10000 [53:37<50:58,  1.60it/s]"
     ]
    },
    {
     "name": "stdout",
     "output_type": "stream",
     "text": [
      "accept rate, %:  45\n",
      "log inf rate, %:  0\n"
     ]
    },
    {
     "name": "stderr",
     "output_type": "stream",
     "text": [
      " 52%|█████▏    | 5201/10000 [54:40<49:48,  1.61it/s]"
     ]
    },
    {
     "name": "stdout",
     "output_type": "stream",
     "text": [
      "accept rate, %:  45\n",
      "log inf rate, %:  0\n"
     ]
    },
    {
     "name": "stderr",
     "output_type": "stream",
     "text": [
      " 53%|█████▎    | 5301/10000 [55:43<49:17,  1.59it/s]"
     ]
    },
    {
     "name": "stdout",
     "output_type": "stream",
     "text": [
      "accept rate, %:  54\n",
      "log inf rate, %:  0\n"
     ]
    },
    {
     "name": "stderr",
     "output_type": "stream",
     "text": [
      " 54%|█████▍    | 5401/10000 [56:46<48:00,  1.60it/s]"
     ]
    },
    {
     "name": "stdout",
     "output_type": "stream",
     "text": [
      "accept rate, %:  56\n",
      "log inf rate, %:  0\n"
     ]
    },
    {
     "name": "stderr",
     "output_type": "stream",
     "text": [
      " 55%|█████▌    | 5501/10000 [57:49<46:50,  1.60it/s]"
     ]
    },
    {
     "name": "stdout",
     "output_type": "stream",
     "text": [
      "accept rate, %:  48\n",
      "log inf rate, %:  0\n"
     ]
    },
    {
     "name": "stderr",
     "output_type": "stream",
     "text": [
      " 56%|█████▌    | 5601/10000 [58:52<46:03,  1.59it/s]"
     ]
    },
    {
     "name": "stdout",
     "output_type": "stream",
     "text": [
      "accept rate, %:  43\n",
      "log inf rate, %:  0\n"
     ]
    },
    {
     "name": "stderr",
     "output_type": "stream",
     "text": [
      " 57%|█████▋    | 5701/10000 [59:55<44:49,  1.60it/s]"
     ]
    },
    {
     "name": "stdout",
     "output_type": "stream",
     "text": [
      "accept rate, %:  44\n",
      "log inf rate, %:  0\n"
     ]
    },
    {
     "name": "stderr",
     "output_type": "stream",
     "text": [
      " 58%|█████▊    | 5801/10000 [1:00:57<44:15,  1.58it/s]"
     ]
    },
    {
     "name": "stdout",
     "output_type": "stream",
     "text": [
      "accept rate, %:  50\n",
      "log inf rate, %:  0\n"
     ]
    },
    {
     "name": "stderr",
     "output_type": "stream",
     "text": [
      " 59%|█████▉    | 5901/10000 [1:02:00<43:10,  1.58it/s]"
     ]
    },
    {
     "name": "stdout",
     "output_type": "stream",
     "text": [
      "accept rate, %:  48\n",
      "log inf rate, %:  0\n"
     ]
    },
    {
     "name": "stderr",
     "output_type": "stream",
     "text": [
      " 60%|██████    | 6001/10000 [1:03:03<41:40,  1.60it/s]"
     ]
    },
    {
     "name": "stdout",
     "output_type": "stream",
     "text": [
      "accept rate, %:  51\n",
      "log inf rate, %:  0\n"
     ]
    },
    {
     "name": "stderr",
     "output_type": "stream",
     "text": [
      " 61%|██████    | 6101/10000 [1:04:06<40:45,  1.59it/s]"
     ]
    },
    {
     "name": "stdout",
     "output_type": "stream",
     "text": [
      "accept rate, %:  53\n",
      "log inf rate, %:  0\n"
     ]
    },
    {
     "name": "stderr",
     "output_type": "stream",
     "text": [
      " 62%|██████▏   | 6201/10000 [1:05:09<40:03,  1.58it/s]"
     ]
    },
    {
     "name": "stdout",
     "output_type": "stream",
     "text": [
      "accept rate, %:  57\n",
      "log inf rate, %:  0\n"
     ]
    },
    {
     "name": "stderr",
     "output_type": "stream",
     "text": [
      " 63%|██████▎   | 6301/10000 [1:06:11<38:27,  1.60it/s]"
     ]
    },
    {
     "name": "stdout",
     "output_type": "stream",
     "text": [
      "accept rate, %:  49\n",
      "log inf rate, %:  0\n"
     ]
    },
    {
     "name": "stderr",
     "output_type": "stream",
     "text": [
      " 64%|██████▍   | 6401/10000 [1:07:14<37:47,  1.59it/s]"
     ]
    },
    {
     "name": "stdout",
     "output_type": "stream",
     "text": [
      "accept rate, %:  56\n",
      "log inf rate, %:  0\n"
     ]
    },
    {
     "name": "stderr",
     "output_type": "stream",
     "text": [
      " 65%|██████▌   | 6501/10000 [1:08:17<36:35,  1.59it/s]"
     ]
    },
    {
     "name": "stdout",
     "output_type": "stream",
     "text": [
      "accept rate, %:  48\n",
      "log inf rate, %:  0\n"
     ]
    },
    {
     "name": "stderr",
     "output_type": "stream",
     "text": [
      " 66%|██████▌   | 6601/10000 [1:09:20<35:15,  1.61it/s]"
     ]
    },
    {
     "name": "stdout",
     "output_type": "stream",
     "text": [
      "accept rate, %:  49\n",
      "log inf rate, %:  0\n"
     ]
    },
    {
     "name": "stderr",
     "output_type": "stream",
     "text": [
      " 67%|██████▋   | 6701/10000 [1:10:23<34:25,  1.60it/s]"
     ]
    },
    {
     "name": "stdout",
     "output_type": "stream",
     "text": [
      "accept rate, %:  47\n",
      "log inf rate, %:  0\n"
     ]
    },
    {
     "name": "stderr",
     "output_type": "stream",
     "text": [
      " 68%|██████▊   | 6801/10000 [1:11:25<33:14,  1.60it/s]"
     ]
    },
    {
     "name": "stdout",
     "output_type": "stream",
     "text": [
      "accept rate, %:  43\n",
      "log inf rate, %:  0\n"
     ]
    },
    {
     "name": "stderr",
     "output_type": "stream",
     "text": [
      " 69%|██████▉   | 6901/10000 [1:12:28<32:21,  1.60it/s]"
     ]
    },
    {
     "name": "stdout",
     "output_type": "stream",
     "text": [
      "accept rate, %:  59\n",
      "log inf rate, %:  0\n"
     ]
    },
    {
     "name": "stderr",
     "output_type": "stream",
     "text": [
      " 70%|███████   | 7001/10000 [1:13:31<30:56,  1.62it/s]"
     ]
    },
    {
     "name": "stdout",
     "output_type": "stream",
     "text": [
      "accept rate, %:  61\n",
      "log inf rate, %:  0\n"
     ]
    },
    {
     "name": "stderr",
     "output_type": "stream",
     "text": [
      " 71%|███████   | 7101/10000 [1:14:33<30:22,  1.59it/s]"
     ]
    },
    {
     "name": "stdout",
     "output_type": "stream",
     "text": [
      "accept rate, %:  48\n",
      "log inf rate, %:  0\n"
     ]
    },
    {
     "name": "stderr",
     "output_type": "stream",
     "text": [
      " 72%|███████▏  | 7201/10000 [1:15:36<29:45,  1.57it/s]"
     ]
    },
    {
     "name": "stdout",
     "output_type": "stream",
     "text": [
      "accept rate, %:  50\n",
      "log inf rate, %:  0\n"
     ]
    },
    {
     "name": "stderr",
     "output_type": "stream",
     "text": [
      " 73%|███████▎  | 7301/10000 [1:16:39<28:04,  1.60it/s]"
     ]
    },
    {
     "name": "stdout",
     "output_type": "stream",
     "text": [
      "accept rate, %:  56\n",
      "log inf rate, %:  0\n"
     ]
    },
    {
     "name": "stderr",
     "output_type": "stream",
     "text": [
      " 74%|███████▍  | 7401/10000 [1:17:42<27:11,  1.59it/s]"
     ]
    },
    {
     "name": "stdout",
     "output_type": "stream",
     "text": [
      "accept rate, %:  52\n",
      "log inf rate, %:  0\n"
     ]
    },
    {
     "name": "stderr",
     "output_type": "stream",
     "text": [
      " 75%|███████▌  | 7501/10000 [1:18:44<26:01,  1.60it/s]"
     ]
    },
    {
     "name": "stdout",
     "output_type": "stream",
     "text": [
      "accept rate, %:  55\n",
      "log inf rate, %:  0\n"
     ]
    },
    {
     "name": "stderr",
     "output_type": "stream",
     "text": [
      " 76%|███████▌  | 7601/10000 [1:19:47<25:01,  1.60it/s]"
     ]
    },
    {
     "name": "stdout",
     "output_type": "stream",
     "text": [
      "accept rate, %:  56\n",
      "log inf rate, %:  0\n"
     ]
    },
    {
     "name": "stderr",
     "output_type": "stream",
     "text": [
      " 77%|███████▋  | 7701/10000 [1:20:50<24:09,  1.59it/s]"
     ]
    },
    {
     "name": "stdout",
     "output_type": "stream",
     "text": [
      "accept rate, %:  48\n",
      "log inf rate, %:  0\n"
     ]
    },
    {
     "name": "stderr",
     "output_type": "stream",
     "text": [
      " 78%|███████▊  | 7801/10000 [1:21:52<22:58,  1.60it/s]"
     ]
    },
    {
     "name": "stdout",
     "output_type": "stream",
     "text": [
      "accept rate, %:  56\n",
      "log inf rate, %:  0\n"
     ]
    },
    {
     "name": "stderr",
     "output_type": "stream",
     "text": [
      " 79%|███████▉  | 7901/10000 [1:22:55<21:44,  1.61it/s]"
     ]
    },
    {
     "name": "stdout",
     "output_type": "stream",
     "text": [
      "accept rate, %:  44\n",
      "log inf rate, %:  0\n"
     ]
    },
    {
     "name": "stderr",
     "output_type": "stream",
     "text": [
      " 80%|████████  | 8001/10000 [1:23:58<20:45,  1.60it/s]"
     ]
    },
    {
     "name": "stdout",
     "output_type": "stream",
     "text": [
      "accept rate, %:  43\n",
      "log inf rate, %:  0\n"
     ]
    },
    {
     "name": "stderr",
     "output_type": "stream",
     "text": [
      " 81%|████████  | 8101/10000 [1:25:00<19:48,  1.60it/s]"
     ]
    },
    {
     "name": "stdout",
     "output_type": "stream",
     "text": [
      "accept rate, %:  54\n",
      "log inf rate, %:  0\n"
     ]
    },
    {
     "name": "stderr",
     "output_type": "stream",
     "text": [
      " 82%|████████▏ | 8201/10000 [1:26:03<18:41,  1.60it/s]"
     ]
    },
    {
     "name": "stdout",
     "output_type": "stream",
     "text": [
      "accept rate, %:  43\n",
      "log inf rate, %:  0\n"
     ]
    },
    {
     "name": "stderr",
     "output_type": "stream",
     "text": [
      " 83%|████████▎ | 8301/10000 [1:27:05<17:44,  1.60it/s]"
     ]
    },
    {
     "name": "stdout",
     "output_type": "stream",
     "text": [
      "accept rate, %:  47\n",
      "log inf rate, %:  0\n"
     ]
    },
    {
     "name": "stderr",
     "output_type": "stream",
     "text": [
      " 84%|████████▍ | 8401/10000 [1:28:08<16:58,  1.57it/s]"
     ]
    },
    {
     "name": "stdout",
     "output_type": "stream",
     "text": [
      "accept rate, %:  45\n",
      "log inf rate, %:  0\n"
     ]
    },
    {
     "name": "stderr",
     "output_type": "stream",
     "text": [
      " 85%|████████▌ | 8501/10000 [1:29:11<15:45,  1.59it/s]"
     ]
    },
    {
     "name": "stdout",
     "output_type": "stream",
     "text": [
      "accept rate, %:  54\n",
      "log inf rate, %:  0\n"
     ]
    },
    {
     "name": "stderr",
     "output_type": "stream",
     "text": [
      " 86%|████████▌ | 8601/10000 [1:30:13<14:35,  1.60it/s]"
     ]
    },
    {
     "name": "stdout",
     "output_type": "stream",
     "text": [
      "accept rate, %:  49\n",
      "log inf rate, %:  0\n"
     ]
    },
    {
     "name": "stderr",
     "output_type": "stream",
     "text": [
      " 87%|████████▋ | 8701/10000 [1:31:16<13:36,  1.59it/s]"
     ]
    },
    {
     "name": "stdout",
     "output_type": "stream",
     "text": [
      "accept rate, %:  56\n",
      "log inf rate, %:  0\n"
     ]
    },
    {
     "name": "stderr",
     "output_type": "stream",
     "text": [
      " 88%|████████▊ | 8801/10000 [1:32:19<12:30,  1.60it/s]"
     ]
    },
    {
     "name": "stdout",
     "output_type": "stream",
     "text": [
      "accept rate, %:  58\n",
      "log inf rate, %:  0\n"
     ]
    },
    {
     "name": "stderr",
     "output_type": "stream",
     "text": [
      " 89%|████████▉ | 8901/10000 [1:33:21<11:22,  1.61it/s]"
     ]
    },
    {
     "name": "stdout",
     "output_type": "stream",
     "text": [
      "accept rate, %:  45\n",
      "log inf rate, %:  0\n"
     ]
    },
    {
     "name": "stderr",
     "output_type": "stream",
     "text": [
      " 90%|█████████ | 9001/10000 [1:34:24<10:23,  1.60it/s]"
     ]
    },
    {
     "name": "stdout",
     "output_type": "stream",
     "text": [
      "accept rate, %:  48\n",
      "log inf rate, %:  0\n"
     ]
    },
    {
     "name": "stderr",
     "output_type": "stream",
     "text": [
      " 91%|█████████ | 9101/10000 [1:35:27<09:19,  1.61it/s]"
     ]
    },
    {
     "name": "stdout",
     "output_type": "stream",
     "text": [
      "accept rate, %:  51\n",
      "log inf rate, %:  0\n"
     ]
    },
    {
     "name": "stderr",
     "output_type": "stream",
     "text": [
      " 92%|█████████▏| 9201/10000 [1:36:29<08:24,  1.58it/s]"
     ]
    },
    {
     "name": "stdout",
     "output_type": "stream",
     "text": [
      "accept rate, %:  44\n",
      "log inf rate, %:  0\n"
     ]
    },
    {
     "name": "stderr",
     "output_type": "stream",
     "text": [
      " 93%|█████████▎| 9301/10000 [1:37:32<07:15,  1.61it/s]"
     ]
    },
    {
     "name": "stdout",
     "output_type": "stream",
     "text": [
      "accept rate, %:  56\n",
      "log inf rate, %:  0\n"
     ]
    },
    {
     "name": "stderr",
     "output_type": "stream",
     "text": [
      " 94%|█████████▍| 9401/10000 [1:38:35<06:13,  1.60it/s]"
     ]
    },
    {
     "name": "stdout",
     "output_type": "stream",
     "text": [
      "accept rate, %:  51\n",
      "log inf rate, %:  0\n"
     ]
    },
    {
     "name": "stderr",
     "output_type": "stream",
     "text": [
      " 95%|█████████▌| 9501/10000 [1:39:37<05:14,  1.59it/s]"
     ]
    },
    {
     "name": "stdout",
     "output_type": "stream",
     "text": [
      "accept rate, %:  52\n",
      "log inf rate, %:  0\n"
     ]
    },
    {
     "name": "stderr",
     "output_type": "stream",
     "text": [
      " 96%|█████████▌| 9601/10000 [1:40:40<04:11,  1.59it/s]"
     ]
    },
    {
     "name": "stdout",
     "output_type": "stream",
     "text": [
      "accept rate, %:  47\n",
      "log inf rate, %:  0\n"
     ]
    },
    {
     "name": "stderr",
     "output_type": "stream",
     "text": [
      " 97%|█████████▋| 9701/10000 [1:41:43<03:10,  1.57it/s]"
     ]
    },
    {
     "name": "stdout",
     "output_type": "stream",
     "text": [
      "accept rate, %:  47\n",
      "log inf rate, %:  0\n"
     ]
    },
    {
     "name": "stderr",
     "output_type": "stream",
     "text": [
      " 98%|█████████▊| 9801/10000 [1:42:46<02:05,  1.59it/s]"
     ]
    },
    {
     "name": "stdout",
     "output_type": "stream",
     "text": [
      "accept rate, %:  51\n",
      "log inf rate, %:  0\n"
     ]
    },
    {
     "name": "stderr",
     "output_type": "stream",
     "text": [
      " 99%|█████████▉| 9901/10000 [1:43:48<01:01,  1.60it/s]"
     ]
    },
    {
     "name": "stdout",
     "output_type": "stream",
     "text": [
      "accept rate, %:  47\n",
      "log inf rate, %:  0\n"
     ]
    },
    {
     "name": "stderr",
     "output_type": "stream",
     "text": [
      "100%|██████████| 10000/10000 [1:44:51<00:00,  1.59it/s]\n"
     ]
    }
   ],
   "source": [
    "p_samples, q_samples = \\\n",
    "    metropolis(train_data, p_ratings, q_ratings, m_sigma=0.9999,\n",
    "               n_iter=10000, q_sigma=0.001, p_lam=0.1, q_lam=0.1, random_state=9)"
   ]
  },
  {
   "cell_type": "code",
   "execution_count": 42,
   "metadata": {},
   "outputs": [
    {
     "data": {
      "text/plain": [
       "((4972, 2116), (4972, 27271))"
      ]
     },
     "execution_count": 42,
     "metadata": {},
     "output_type": "execute_result"
    }
   ],
   "source": [
    "p_samples.shape, q_samples.shape"
   ]
  },
  {
   "cell_type": "code",
   "execution_count": 43,
   "metadata": {},
   "outputs": [],
   "source": [
    "np.save('p_samples', p_samples)\n",
    "np.save('q_samples', q_samples)"
   ]
  },
  {
   "cell_type": "code",
   "execution_count": 44,
   "metadata": {},
   "outputs": [],
   "source": [
    "p_samples = np.load('p_samples.npy')\n",
    "q_samples = np.load('q_samples.npy')"
   ]
  },
  {
   "cell_type": "code",
   "execution_count": 45,
   "metadata": {},
   "outputs": [
    {
     "data": {
      "text/plain": [
       "90"
      ]
     },
     "execution_count": 45,
     "metadata": {},
     "output_type": "execute_result"
    }
   ],
   "source": [
    "player_map = {idx:pid for pid,idx in player_inv_map.items()}\n",
    "player_map[30152]"
   ]
  },
  {
   "cell_type": "code",
   "execution_count": 46,
   "metadata": {
    "scrolled": true
   },
   "outputs": [
    {
     "data": {
      "text/plain": [
       "{'spearman': 0.313, 'kendall': 0.221}"
      ]
     },
     "execution_count": 46,
     "metadata": {},
     "output_type": "execute_result"
    }
   ],
   "source": [
    "def predict(data, pred):\n",
    "    result = data[['game_id', 'team_id', 'members']].explode('members')\\\n",
    "                                                    .rename({'members': 'player_id'}, axis=1)\n",
    "    result = result.merge(pred, on='player_id')\n",
    "    result = result.groupby(['game_id', 'team_id'])['player_rating'].sum().reset_index()\n",
    "    result.columns = ['game_id', 'team_id', 'team_rating']\n",
    "    return result\n",
    "\n",
    "\n",
    "player_ratings = pd.DataFrame({'player_rating': np.mean(p_samples[0::1,:], axis=0)})\n",
    "player_ratings['player_id'] = player_ratings.index.map(player_inv_map)\n",
    "pred_results = predict(test_results, player_ratings)\n",
    "\n",
    "mean_correlation_score(test_results, pred_results)"
   ]
  },
  {
   "cell_type": "code",
   "execution_count": 47,
   "metadata": {},
   "outputs": [
    {
     "data": {
      "image/png": "[encoded data removed]",
      "text/plain": [
       "<Figure size 432x288 with 1 Axes>"
      ]
     },
     "metadata": {
      "needs_background": "light"
     },
     "output_type": "display_data"
    }
   ],
   "source": [
    "plt.hist(p_samples[500::2, 307], bins=50, alpha=0.5, label='0')\n",
    "plt.hist(p_samples[500::2, 3],   bins=50, alpha=0.5, label='1')\n",
    "plt.hist(p_samples[500::2, 105], bins=50, alpha=0.5, label='2')\n",
    "plt.legend()\n",
    "plt.show()"
   ]
  },
  {
   "cell_type": "code",
   "execution_count": 48,
   "metadata": {
    "scrolled": true
   },
   "outputs": [
    {
     "data": {
      "image/png": "[encoded data removed]",
      "text/plain": [
       "<Figure size 432x288 with 1 Axes>"
      ]
     },
     "metadata": {
      "needs_background": "light"
     },
     "output_type": "display_data"
    }
   ],
   "source": [
    "plt.hist(p_samples[1000:,:].mean(axis=0), bins=100)\n",
    "plt.show()"
   ]
  },
  {
   "cell_type": "markdown",
   "metadata": {},
   "source": [
    "**Выводы:**\n",
    "\n",
    "к сожалению неутешительные. Эксперимент нельзя считать удавшимся, так как корреляции не приблизились к подоходам из предыдущей ДЗ. Сам алгоритм семплирования мне показался очень неустойчивым и сильно зависящим от метапараметров, которые непонятно как выбирать. \n",
    "\n",
    "Это довольно обидно, так как на маленьких искусственных данных сэмплирование отработало просто замечательно и дало распределения, которые очень точно отражают то, что хотелось увидеть: **игроки с меньшим кол-вом игр имеют рейтинги с бОльшей дисперсией** и поэтому даже если среднее их рейтингов больше средних рейтингов опытных игроков, это не значит, что они будут менее опытные будут иметь бОльший окончательный рейтинг - он понизится на кротное дисперсию и их \"вынесет\" пониже, чем опытных игроков.\n",
    "\n",
    "**Пример:** в данных ниже игроки 0, 1 и 3 - опытные, 2 - неопытный. Игрок 2 взял все 2 вопроса, которые видел, а игрок 0 взял 4 из 5. И тем не менее распредения рейтингов по модели выше дают возможность оценить игрока 0 выше чем новичка 2."
   ]
  },
  {
   "cell_type": "code",
   "execution_count": 49,
   "metadata": {
    "scrolled": true
   },
   "outputs": [
    {
     "name": "stderr",
     "output_type": "stream",
     "text": [
      "  1%|▏         | 119/8000 [00:00<00:48, 163.69it/s]"
     ]
    },
    {
     "name": "stdout",
     "output_type": "stream",
     "text": [
      "accept rate, %:  67\n",
      "log inf rate, %:  4\n"
     ]
    },
    {
     "name": "stderr",
     "output_type": "stream",
     "text": [
      "  3%|▎         | 222/8000 [00:01<00:46, 167.64it/s]"
     ]
    },
    {
     "name": "stdout",
     "output_type": "stream",
     "text": [
      "accept rate, %:  85\n",
      "log inf rate, %:  0\n"
     ]
    },
    {
     "name": "stderr",
     "output_type": "stream",
     "text": [
      "  4%|▍         | 325/8000 [00:01<00:45, 167.95it/s]"
     ]
    },
    {
     "name": "stdout",
     "output_type": "stream",
     "text": [
      "accept rate, %:  91\n",
      "log inf rate, %:  0\n"
     ]
    },
    {
     "name": "stderr",
     "output_type": "stream",
     "text": [
      "  5%|▌         | 428/8000 [00:02<00:44, 169.11it/s]"
     ]
    },
    {
     "name": "stdout",
     "output_type": "stream",
     "text": [
      "accept rate, %:  84\n",
      "log inf rate, %:  0\n"
     ]
    },
    {
     "name": "stderr",
     "output_type": "stream",
     "text": [
      "  7%|▋         | 530/8000 [00:03<00:44, 166.60it/s]"
     ]
    },
    {
     "name": "stdout",
     "output_type": "stream",
     "text": [
      "accept rate, %:  73\n",
      "log inf rate, %:  0\n"
     ]
    },
    {
     "name": "stderr",
     "output_type": "stream",
     "text": [
      "  8%|▊         | 633/8000 [00:03<00:44, 166.60it/s]"
     ]
    },
    {
     "name": "stdout",
     "output_type": "stream",
     "text": [
      "accept rate, %:  89\n",
      "log inf rate, %:  0\n"
     ]
    },
    {
     "name": "stderr",
     "output_type": "stream",
     "text": [
      "  9%|▉         | 721/8000 [00:04<00:42, 169.73it/s]"
     ]
    },
    {
     "name": "stdout",
     "output_type": "stream",
     "text": [
      "accept rate, %:  81\n",
      "log inf rate, %:  0\n"
     ]
    },
    {
     "name": "stderr",
     "output_type": "stream",
     "text": [
      " 10%|█         | 824/8000 [00:04<00:43, 166.45it/s]"
     ]
    },
    {
     "name": "stdout",
     "output_type": "stream",
     "text": [
      "accept rate, %:  86\n",
      "log inf rate, %:  0\n"
     ]
    },
    {
     "name": "stderr",
     "output_type": "stream",
     "text": [
      " 12%|█▏        | 928/8000 [00:05<00:41, 168.86it/s]"
     ]
    },
    {
     "name": "stdout",
     "output_type": "stream",
     "text": [
      "accept rate, %:  85\n",
      "log inf rate, %:  0\n"
     ]
    },
    {
     "name": "stderr",
     "output_type": "stream",
     "text": [
      " 13%|█▎        | 1033/8000 [00:06<00:41, 169.48it/s]"
     ]
    },
    {
     "name": "stdout",
     "output_type": "stream",
     "text": [
      "accept rate, %:  60\n",
      "log inf rate, %:  0\n"
     ]
    },
    {
     "name": "stderr",
     "output_type": "stream",
     "text": [
      " 14%|█▍        | 1122/8000 [00:06<00:40, 169.05it/s]"
     ]
    },
    {
     "name": "stdout",
     "output_type": "stream",
     "text": [
      "accept rate, %:  65\n",
      "log inf rate, %:  0\n"
     ]
    },
    {
     "name": "stderr",
     "output_type": "stream",
     "text": [
      " 15%|█▌        | 1228/8000 [00:07<00:39, 169.93it/s]"
     ]
    },
    {
     "name": "stdout",
     "output_type": "stream",
     "text": [
      "accept rate, %:  77\n",
      "log inf rate, %:  0\n"
     ]
    },
    {
     "name": "stderr",
     "output_type": "stream",
     "text": [
      " 17%|█▋        | 1333/8000 [00:07<00:39, 169.52it/s]"
     ]
    },
    {
     "name": "stdout",
     "output_type": "stream",
     "text": [
      "accept rate, %:  85\n",
      "log inf rate, %:  0\n"
     ]
    },
    {
     "name": "stderr",
     "output_type": "stream",
     "text": [
      " 18%|█▊        | 1422/8000 [00:08<00:38, 169.48it/s]"
     ]
    },
    {
     "name": "stdout",
     "output_type": "stream",
     "text": [
      "accept rate, %:  76\n",
      "log inf rate, %:  0\n"
     ]
    },
    {
     "name": "stderr",
     "output_type": "stream",
     "text": [
      " 19%|█▉        | 1525/8000 [00:09<00:38, 169.15it/s]"
     ]
    },
    {
     "name": "stdout",
     "output_type": "stream",
     "text": [
      "accept rate, %:  85\n",
      "log inf rate, %:  0\n"
     ]
    },
    {
     "name": "stderr",
     "output_type": "stream",
     "text": [
      " 20%|██        | 1628/8000 [00:09<00:39, 162.64it/s]"
     ]
    },
    {
     "name": "stdout",
     "output_type": "stream",
     "text": [
      "accept rate, %:  87\n",
      "log inf rate, %:  0\n"
     ]
    },
    {
     "name": "stderr",
     "output_type": "stream",
     "text": [
      " 22%|██▏       | 1735/8000 [00:10<00:36, 170.02it/s]"
     ]
    },
    {
     "name": "stdout",
     "output_type": "stream",
     "text": [
      "accept rate, %:  86\n",
      "log inf rate, %:  0\n"
     ]
    },
    {
     "name": "stderr",
     "output_type": "stream",
     "text": [
      " 23%|██▎       | 1825/8000 [00:10<00:36, 170.39it/s]"
     ]
    },
    {
     "name": "stdout",
     "output_type": "stream",
     "text": [
      "accept rate, %:  92\n",
      "log inf rate, %:  0\n"
     ]
    },
    {
     "name": "stderr",
     "output_type": "stream",
     "text": [
      " 24%|██▍       | 1933/8000 [00:11<00:35, 170.58it/s]"
     ]
    },
    {
     "name": "stdout",
     "output_type": "stream",
     "text": [
      "accept rate, %:  95\n",
      "log inf rate, %:  0\n"
     ]
    },
    {
     "name": "stderr",
     "output_type": "stream",
     "text": [
      " 25%|██▌       | 2022/8000 [00:12<00:35, 170.57it/s]"
     ]
    },
    {
     "name": "stdout",
     "output_type": "stream",
     "text": [
      "accept rate, %:  94\n",
      "log inf rate, %:  0\n"
     ]
    },
    {
     "name": "stderr",
     "output_type": "stream",
     "text": [
      " 27%|██▋       | 2129/8000 [00:12<00:34, 169.01it/s]"
     ]
    },
    {
     "name": "stdout",
     "output_type": "stream",
     "text": [
      "accept rate, %:  85\n",
      "log inf rate, %:  0\n"
     ]
    },
    {
     "name": "stderr",
     "output_type": "stream",
     "text": [
      " 28%|██▊       | 2218/8000 [00:13<00:33, 170.89it/s]"
     ]
    },
    {
     "name": "stdout",
     "output_type": "stream",
     "text": [
      "accept rate, %:  79\n",
      "log inf rate, %:  0\n"
     ]
    },
    {
     "name": "stderr",
     "output_type": "stream",
     "text": [
      " 29%|██▉       | 2324/8000 [00:13<00:33, 168.94it/s]"
     ]
    },
    {
     "name": "stdout",
     "output_type": "stream",
     "text": [
      "accept rate, %:  77\n",
      "log inf rate, %:  0\n"
     ]
    },
    {
     "name": "stderr",
     "output_type": "stream",
     "text": [
      " 30%|███       | 2431/8000 [00:14<00:32, 169.68it/s]"
     ]
    },
    {
     "name": "stdout",
     "output_type": "stream",
     "text": [
      "accept rate, %:  79\n",
      "log inf rate, %:  0\n"
     ]
    },
    {
     "name": "stderr",
     "output_type": "stream",
     "text": [
      " 31%|███▏      | 2519/8000 [00:14<00:32, 169.88it/s]"
     ]
    },
    {
     "name": "stdout",
     "output_type": "stream",
     "text": [
      "accept rate, %:  84\n",
      "log inf rate, %:  0\n"
     ]
    },
    {
     "name": "stderr",
     "output_type": "stream",
     "text": [
      " 33%|███▎      | 2625/8000 [00:15<00:31, 169.77it/s]"
     ]
    },
    {
     "name": "stdout",
     "output_type": "stream",
     "text": [
      "accept rate, %:  65\n",
      "log inf rate, %:  0\n"
     ]
    },
    {
     "name": "stderr",
     "output_type": "stream",
     "text": [
      " 34%|███▍      | 2732/8000 [00:16<00:30, 170.76it/s]"
     ]
    },
    {
     "name": "stdout",
     "output_type": "stream",
     "text": [
      "accept rate, %:  84\n",
      "log inf rate, %:  0\n"
     ]
    },
    {
     "name": "stderr",
     "output_type": "stream",
     "text": [
      " 35%|███▌      | 2819/8000 [00:16<00:30, 168.38it/s]"
     ]
    },
    {
     "name": "stdout",
     "output_type": "stream",
     "text": [
      "accept rate, %:  78\n",
      "log inf rate, %:  0\n"
     ]
    },
    {
     "name": "stderr",
     "output_type": "stream",
     "text": [
      " 37%|███▋      | 2926/8000 [00:17<00:29, 170.51it/s]"
     ]
    },
    {
     "name": "stdout",
     "output_type": "stream",
     "text": [
      "accept rate, %:  86\n",
      "log inf rate, %:  0\n"
     ]
    },
    {
     "name": "stderr",
     "output_type": "stream",
     "text": [
      " 38%|███▊      | 3034/8000 [00:17<00:29, 170.43it/s]"
     ]
    },
    {
     "name": "stdout",
     "output_type": "stream",
     "text": [
      "accept rate, %:  86\n",
      "log inf rate, %:  0\n"
     ]
    },
    {
     "name": "stderr",
     "output_type": "stream",
     "text": [
      " 39%|███▉      | 3122/8000 [00:18<00:28, 168.94it/s]"
     ]
    },
    {
     "name": "stdout",
     "output_type": "stream",
     "text": [
      "accept rate, %:  85\n",
      "log inf rate, %:  0\n"
     ]
    },
    {
     "name": "stderr",
     "output_type": "stream",
     "text": [
      " 40%|████      | 3228/8000 [00:19<00:28, 170.41it/s]"
     ]
    },
    {
     "name": "stdout",
     "output_type": "stream",
     "text": [
      "accept rate, %:  88\n",
      "log inf rate, %:  0\n"
     ]
    },
    {
     "name": "stderr",
     "output_type": "stream",
     "text": [
      " 42%|████▏     | 3331/8000 [00:19<00:28, 166.57it/s]"
     ]
    },
    {
     "name": "stdout",
     "output_type": "stream",
     "text": [
      "accept rate, %:  78\n",
      "log inf rate, %:  0\n"
     ]
    },
    {
     "name": "stderr",
     "output_type": "stream",
     "text": [
      " 43%|████▎     | 3433/8000 [00:20<00:27, 167.59it/s]"
     ]
    },
    {
     "name": "stdout",
     "output_type": "stream",
     "text": [
      "accept rate, %:  81\n",
      "log inf rate, %:  0\n"
     ]
    },
    {
     "name": "stderr",
     "output_type": "stream",
     "text": [
      " 44%|████▍     | 3518/8000 [00:20<00:26, 167.53it/s]"
     ]
    },
    {
     "name": "stdout",
     "output_type": "stream",
     "text": [
      "accept rate, %:  84\n",
      "log inf rate, %:  0\n"
     ]
    },
    {
     "name": "stderr",
     "output_type": "stream",
     "text": [
      " 45%|████▌     | 3623/8000 [00:21<00:25, 168.85it/s]"
     ]
    },
    {
     "name": "stdout",
     "output_type": "stream",
     "text": [
      "accept rate, %:  69\n",
      "log inf rate, %:  0\n"
     ]
    },
    {
     "name": "stderr",
     "output_type": "stream",
     "text": [
      " 47%|████▋     | 3728/8000 [00:22<00:25, 169.86it/s]"
     ]
    },
    {
     "name": "stdout",
     "output_type": "stream",
     "text": [
      "accept rate, %:  74\n",
      "log inf rate, %:  0\n"
     ]
    },
    {
     "name": "stderr",
     "output_type": "stream",
     "text": [
      " 48%|████▊     | 3831/8000 [00:22<00:24, 167.11it/s]"
     ]
    },
    {
     "name": "stdout",
     "output_type": "stream",
     "text": [
      "accept rate, %:  84\n",
      "log inf rate, %:  0\n"
     ]
    },
    {
     "name": "stderr",
     "output_type": "stream",
     "text": [
      " 49%|████▉     | 3933/8000 [00:23<00:24, 168.68it/s]"
     ]
    },
    {
     "name": "stdout",
     "output_type": "stream",
     "text": [
      "accept rate, %:  88\n",
      "log inf rate, %:  0\n"
     ]
    },
    {
     "name": "stderr",
     "output_type": "stream",
     "text": [
      " 50%|█████     | 4018/8000 [00:23<00:23, 168.07it/s]"
     ]
    },
    {
     "name": "stdout",
     "output_type": "stream",
     "text": [
      "accept rate, %:  87\n",
      "log inf rate, %:  0\n"
     ]
    },
    {
     "name": "stderr",
     "output_type": "stream",
     "text": [
      " 52%|█████▏    | 4120/8000 [00:24<00:22, 168.74it/s]"
     ]
    },
    {
     "name": "stdout",
     "output_type": "stream",
     "text": [
      "accept rate, %:  69\n",
      "log inf rate, %:  0\n"
     ]
    },
    {
     "name": "stderr",
     "output_type": "stream",
     "text": [
      " 53%|█████▎    | 4224/8000 [00:25<00:22, 168.82it/s]"
     ]
    },
    {
     "name": "stdout",
     "output_type": "stream",
     "text": [
      "accept rate, %:  80\n",
      "log inf rate, %:  0\n"
     ]
    },
    {
     "name": "stderr",
     "output_type": "stream",
     "text": [
      " 54%|█████▍    | 4331/8000 [00:25<00:21, 168.77it/s]"
     ]
    },
    {
     "name": "stdout",
     "output_type": "stream",
     "text": [
      "accept rate, %:  89\n",
      "log inf rate, %:  0\n"
     ]
    },
    {
     "name": "stderr",
     "output_type": "stream",
     "text": [
      " 55%|█████▌    | 4419/8000 [00:26<00:21, 169.66it/s]"
     ]
    },
    {
     "name": "stdout",
     "output_type": "stream",
     "text": [
      "accept rate, %:  88\n",
      "log inf rate, %:  0\n"
     ]
    },
    {
     "name": "stderr",
     "output_type": "stream",
     "text": [
      " 57%|█████▋    | 4522/8000 [00:26<00:20, 168.94it/s]"
     ]
    },
    {
     "name": "stdout",
     "output_type": "stream",
     "text": [
      "accept rate, %:  82\n",
      "log inf rate, %:  0\n"
     ]
    },
    {
     "name": "stderr",
     "output_type": "stream",
     "text": [
      " 58%|█████▊    | 4627/8000 [00:27<00:19, 169.15it/s]"
     ]
    },
    {
     "name": "stdout",
     "output_type": "stream",
     "text": [
      "accept rate, %:  90\n",
      "log inf rate, %:  0\n"
     ]
    },
    {
     "name": "stderr",
     "output_type": "stream",
     "text": [
      " 59%|█████▉    | 4733/8000 [00:28<00:19, 170.19it/s]"
     ]
    },
    {
     "name": "stdout",
     "output_type": "stream",
     "text": [
      "accept rate, %:  83\n",
      "log inf rate, %:  0\n"
     ]
    },
    {
     "name": "stderr",
     "output_type": "stream",
     "text": [
      " 60%|██████    | 4823/8000 [00:28<00:18, 170.65it/s]"
     ]
    },
    {
     "name": "stdout",
     "output_type": "stream",
     "text": [
      "accept rate, %:  92\n",
      "log inf rate, %:  0\n"
     ]
    },
    {
     "name": "stderr",
     "output_type": "stream",
     "text": [
      " 62%|██████▏   | 4931/8000 [00:29<00:17, 170.54it/s]"
     ]
    },
    {
     "name": "stdout",
     "output_type": "stream",
     "text": [
      "accept rate, %:  91\n",
      "log inf rate, %:  0\n"
     ]
    },
    {
     "name": "stderr",
     "output_type": "stream",
     "text": [
      " 63%|██████▎   | 5021/8000 [00:29<00:17, 169.43it/s]"
     ]
    },
    {
     "name": "stdout",
     "output_type": "stream",
     "text": [
      "accept rate, %:  83\n",
      "log inf rate, %:  0\n"
     ]
    },
    {
     "name": "stderr",
     "output_type": "stream",
     "text": [
      " 64%|██████▍   | 5128/8000 [00:30<00:16, 170.45it/s]"
     ]
    },
    {
     "name": "stdout",
     "output_type": "stream",
     "text": [
      "accept rate, %:  71\n",
      "log inf rate, %:  0\n"
     ]
    },
    {
     "name": "stderr",
     "output_type": "stream",
     "text": [
      " 65%|██████▌   | 5233/8000 [00:31<00:16, 169.02it/s]"
     ]
    },
    {
     "name": "stdout",
     "output_type": "stream",
     "text": [
      "accept rate, %:  83\n",
      "log inf rate, %:  0\n"
     ]
    },
    {
     "name": "stderr",
     "output_type": "stream",
     "text": [
      " 66%|██████▋   | 5320/8000 [00:31<00:15, 169.59it/s]"
     ]
    },
    {
     "name": "stdout",
     "output_type": "stream",
     "text": [
      "accept rate, %:  82\n",
      "log inf rate, %:  0\n"
     ]
    },
    {
     "name": "stderr",
     "output_type": "stream",
     "text": [
      " 68%|██████▊   | 5424/8000 [00:32<00:15, 169.21it/s]"
     ]
    },
    {
     "name": "stdout",
     "output_type": "stream",
     "text": [
      "accept rate, %:  83\n",
      "log inf rate, %:  0\n"
     ]
    },
    {
     "name": "stderr",
     "output_type": "stream",
     "text": [
      " 69%|██████▉   | 5529/8000 [00:32<00:14, 169.14it/s]"
     ]
    },
    {
     "name": "stdout",
     "output_type": "stream",
     "text": [
      "accept rate, %:  89\n",
      "log inf rate, %:  0\n"
     ]
    },
    {
     "name": "stderr",
     "output_type": "stream",
     "text": [
      " 70%|███████   | 5618/8000 [00:33<00:14, 170.02it/s]"
     ]
    },
    {
     "name": "stdout",
     "output_type": "stream",
     "text": [
      "accept rate, %:  79\n",
      "log inf rate, %:  0\n"
     ]
    },
    {
     "name": "stderr",
     "output_type": "stream",
     "text": [
      " 72%|███████▏  | 5722/8000 [00:33<00:13, 168.27it/s]"
     ]
    },
    {
     "name": "stdout",
     "output_type": "stream",
     "text": [
      "accept rate, %:  90\n",
      "log inf rate, %:  0\n"
     ]
    },
    {
     "name": "stderr",
     "output_type": "stream",
     "text": [
      " 73%|███████▎  | 5827/8000 [00:34<00:12, 169.29it/s]"
     ]
    },
    {
     "name": "stdout",
     "output_type": "stream",
     "text": [
      "accept rate, %:  85\n",
      "log inf rate, %:  0\n"
     ]
    },
    {
     "name": "stderr",
     "output_type": "stream",
     "text": [
      " 74%|███████▍  | 5932/8000 [00:35<00:12, 169.91it/s]"
     ]
    },
    {
     "name": "stdout",
     "output_type": "stream",
     "text": [
      "accept rate, %:  88\n",
      "log inf rate, %:  0\n"
     ]
    },
    {
     "name": "stderr",
     "output_type": "stream",
     "text": [
      " 75%|███████▌  | 6018/8000 [00:35<00:11, 167.99it/s]"
     ]
    },
    {
     "name": "stdout",
     "output_type": "stream",
     "text": [
      "accept rate, %:  82\n",
      "log inf rate, %:  0\n"
     ]
    },
    {
     "name": "stderr",
     "output_type": "stream",
     "text": [
      " 77%|███████▋  | 6124/8000 [00:36<00:11, 169.94it/s]"
     ]
    },
    {
     "name": "stdout",
     "output_type": "stream",
     "text": [
      "accept rate, %:  87\n",
      "log inf rate, %:  0\n"
     ]
    },
    {
     "name": "stderr",
     "output_type": "stream",
     "text": [
      " 78%|███████▊  | 6229/8000 [00:36<00:10, 169.70it/s]"
     ]
    },
    {
     "name": "stdout",
     "output_type": "stream",
     "text": [
      "accept rate, %:  88\n",
      "log inf rate, %:  0\n"
     ]
    },
    {
     "name": "stderr",
     "output_type": "stream",
     "text": [
      " 79%|███████▉  | 6335/8000 [00:37<00:09, 169.94it/s]"
     ]
    },
    {
     "name": "stdout",
     "output_type": "stream",
     "text": [
      "accept rate, %:  95\n",
      "log inf rate, %:  0\n"
     ]
    },
    {
     "name": "stderr",
     "output_type": "stream",
     "text": [
      " 80%|████████  | 6424/8000 [00:38<00:09, 170.34it/s]"
     ]
    },
    {
     "name": "stdout",
     "output_type": "stream",
     "text": [
      "accept rate, %:  92\n",
      "log inf rate, %:  0\n"
     ]
    },
    {
     "name": "stderr",
     "output_type": "stream",
     "text": [
      " 82%|████████▏ | 6532/8000 [00:38<00:08, 169.41it/s]"
     ]
    },
    {
     "name": "stdout",
     "output_type": "stream",
     "text": [
      "accept rate, %:  93\n",
      "log inf rate, %:  0\n"
     ]
    },
    {
     "name": "stderr",
     "output_type": "stream",
     "text": [
      " 83%|████████▎ | 6621/8000 [00:39<00:08, 170.42it/s]"
     ]
    },
    {
     "name": "stdout",
     "output_type": "stream",
     "text": [
      "accept rate, %:  90\n",
      "log inf rate, %:  0\n"
     ]
    },
    {
     "name": "stderr",
     "output_type": "stream",
     "text": [
      " 84%|████████▍ | 6727/8000 [00:39<00:07, 168.84it/s]"
     ]
    },
    {
     "name": "stdout",
     "output_type": "stream",
     "text": [
      "accept rate, %:  90\n",
      "log inf rate, %:  0\n"
     ]
    },
    {
     "name": "stderr",
     "output_type": "stream",
     "text": [
      " 85%|████████▌ | 6829/8000 [00:40<00:06, 167.30it/s]"
     ]
    },
    {
     "name": "stdout",
     "output_type": "stream",
     "text": [
      "accept rate, %:  88\n",
      "log inf rate, %:  0\n"
     ]
    },
    {
     "name": "stderr",
     "output_type": "stream",
     "text": [
      " 87%|████████▋ | 6931/8000 [00:41<00:06, 168.20it/s]"
     ]
    },
    {
     "name": "stdout",
     "output_type": "stream",
     "text": [
      "accept rate, %:  96\n",
      "log inf rate, %:  0\n"
     ]
    },
    {
     "name": "stderr",
     "output_type": "stream",
     "text": [
      " 88%|████████▊ | 7033/8000 [00:41<00:05, 166.62it/s]"
     ]
    },
    {
     "name": "stdout",
     "output_type": "stream",
     "text": [
      "accept rate, %:  78\n",
      "log inf rate, %:  0\n"
     ]
    },
    {
     "name": "stderr",
     "output_type": "stream",
     "text": [
      " 89%|████████▉ | 7118/8000 [00:42<00:05, 168.10it/s]"
     ]
    },
    {
     "name": "stdout",
     "output_type": "stream",
     "text": [
      "accept rate, %:  84\n",
      "log inf rate, %:  0\n"
     ]
    },
    {
     "name": "stderr",
     "output_type": "stream",
     "text": [
      " 90%|█████████ | 7220/8000 [00:42<00:04, 165.76it/s]"
     ]
    },
    {
     "name": "stdout",
     "output_type": "stream",
     "text": [
      "accept rate, %:  89\n",
      "log inf rate, %:  0\n"
     ]
    },
    {
     "name": "stderr",
     "output_type": "stream",
     "text": [
      " 92%|█████████▏| 7322/8000 [00:43<00:04, 167.91it/s]"
     ]
    },
    {
     "name": "stdout",
     "output_type": "stream",
     "text": [
      "accept rate, %:  89\n",
      "log inf rate, %:  0\n"
     ]
    },
    {
     "name": "stderr",
     "output_type": "stream",
     "text": [
      " 93%|█████████▎| 7427/8000 [00:44<00:03, 169.85it/s]"
     ]
    },
    {
     "name": "stdout",
     "output_type": "stream",
     "text": [
      "accept rate, %:  92\n",
      "log inf rate, %:  0\n"
     ]
    },
    {
     "name": "stderr",
     "output_type": "stream",
     "text": [
      " 94%|█████████▍| 7531/8000 [00:44<00:02, 168.05it/s]"
     ]
    },
    {
     "name": "stdout",
     "output_type": "stream",
     "text": [
      "accept rate, %:  91\n",
      "log inf rate, %:  0\n"
     ]
    },
    {
     "name": "stderr",
     "output_type": "stream",
     "text": [
      " 95%|█████████▌| 7619/8000 [00:45<00:02, 169.59it/s]"
     ]
    },
    {
     "name": "stdout",
     "output_type": "stream",
     "text": [
      "accept rate, %:  91\n",
      "log inf rate, %:  0\n"
     ]
    },
    {
     "name": "stderr",
     "output_type": "stream",
     "text": [
      " 97%|█████████▋| 7723/8000 [00:45<00:01, 168.68it/s]"
     ]
    },
    {
     "name": "stdout",
     "output_type": "stream",
     "text": [
      "accept rate, %:  87\n",
      "log inf rate, %:  0\n"
     ]
    },
    {
     "name": "stderr",
     "output_type": "stream",
     "text": [
      " 98%|█████████▊| 7827/8000 [00:46<00:01, 169.68it/s]"
     ]
    },
    {
     "name": "stdout",
     "output_type": "stream",
     "text": [
      "accept rate, %:  89\n",
      "log inf rate, %:  0\n"
     ]
    },
    {
     "name": "stderr",
     "output_type": "stream",
     "text": [
      " 99%|█████████▉| 7932/8000 [00:47<00:00, 169.22it/s]"
     ]
    },
    {
     "name": "stdout",
     "output_type": "stream",
     "text": [
      "accept rate, %:  78\n",
      "log inf rate, %:  0\n"
     ]
    },
    {
     "name": "stderr",
     "output_type": "stream",
     "text": [
      "100%|██████████| 8000/8000 [00:47<00:00, 168.77it/s]\n"
     ]
    },
    {
     "data": {
      "text/plain": [
       "6722"
      ]
     },
     "execution_count": 49,
     "metadata": {},
     "output_type": "execute_result"
    }
   ],
   "source": [
    "fixture_data = pd.DataFrame({\n",
    "    'player_id':   [0,0,0,1,1,1,3,3,3,0,0,2,2],\n",
    "    'question_id': [0,1,2,0,1,2,0,1,2,3,4,3,4],\n",
    "    'gameteam_id': [0,0,0,0,0,0,2,2,2,1,1,1,1],\n",
    "    'win':         [1,1,0,1,1,0,0,0,0,1,1,1,1]\n",
    "}).set_index(['player_id', 'question_id'])\n",
    "p_ratings1, q_ratings1 = create_param_dataframes([0,0,0,0], [0,0,0,0,0])\n",
    "\n",
    "p_samples1, q_samples1 = \\\n",
    "    metropolis(fixture_data, p_ratings1, q_ratings1, m_sigma=0.01,\n",
    "               n_iter=8000, q_sigma=0.01, p_lam=10.0, q_lam=10.0, random_state=9)\n",
    "\n",
    "len(p_samples1)"
   ]
  },
  {
   "cell_type": "code",
   "execution_count": 50,
   "metadata": {
    "scrolled": true
   },
   "outputs": [
    {
     "data": {
      "image/png": "[encoded data removed]",
      "text/plain": [
       "<Figure size 432x288 with 1 Axes>"
      ]
     },
     "metadata": {
      "needs_background": "light"
     },
     "output_type": "display_data"
    }
   ],
   "source": [
    "plt.hist(p_samples1[5000::5, 0], bins=50, alpha=0.5, label='0')\n",
    "plt.hist(p_samples1[5000::5, 1], bins=50, alpha=0.5, label='1')\n",
    "plt.hist(p_samples1[5000::5, 2], bins=20, alpha=0.5, label='2')\n",
    "plt.hist(p_samples1[5000::5, 3], bins=20, alpha=0.5, label='3')\n",
    "plt.legend()\n",
    "plt.show()"
   ]
  },
  {
   "cell_type": "markdown",
   "metadata": {},
   "source": [
    "**Жаль, что на полноразмерной модели что-то не срослось, и получить аналогичных картин не вышло. Подучилось бы довольно красиво и замкнуто теоретически.**"
   ]
  },
  {
   "cell_type": "markdown",
   "metadata": {},
   "source": [
    "## Выводы:\n",
    "\n",
    "- Сэмплирование - очень мощный и универсальный инструмент как для решения задач, которые иначе решить нельзя, так и для получения вероятностных на \n",
    "- Но, увы, довольно неустойчивый... Может не сойтись, могут существенно повлиять априорные распределения или гиперпараметры сэмплирования и т.п.\n",
    "\n",
    "**P.S. Спасибо за очень интересный курс. Стали видны новые горизонты ML как области знаний и существенно расширился кругозор.**"
   ]
  }
 ],
 "metadata": {
  "kernelspec": {
   "display_name": "Python 3",
   "language": "python",
   "name": "python3"
  },
  "language_info": {
   "codemirror_mode": {
    "name": "ipython",
    "version": 3
   },
   "file_extension": ".py",
   "mimetype": "text/x-python",
   "name": "python",
   "nbconvert_exporter": "python",
   "pygments_lexer": "ipython3",
   "version": "3.8.5"
  }
 },
 "nbformat": 4,
 "nbformat_minor": 4
}
